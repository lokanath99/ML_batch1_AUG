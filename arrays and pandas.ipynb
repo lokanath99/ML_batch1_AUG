{
 "cells": [
  {
   "cell_type": "markdown",
   "id": "984202f9",
   "metadata": {},
   "source": [
    "# Basic arrays"
   ]
  },
  {
   "cell_type": "code",
   "execution_count": 1,
   "id": "29ec9c84",
   "metadata": {},
   "outputs": [],
   "source": [
    "import array as arr"
   ]
  },
  {
   "cell_type": "code",
   "execution_count": 14,
   "id": "319dbbb9",
   "metadata": {},
   "outputs": [],
   "source": [
    "arr1 = arr.array('i',\n",
    "    [25,6,9,5,8]\n",
    ")"
   ]
  },
  {
   "cell_type": "code",
   "execution_count": 2,
   "id": "6d963ab6",
   "metadata": {},
   "outputs": [],
   "source": [
    "import numpy as np"
   ]
  },
  {
   "cell_type": "code",
   "execution_count": 21,
   "id": "36216ff2",
   "metadata": {},
   "outputs": [
    {
     "data": {
      "text/plain": [
       "array([5. , 8. , 9. , 6. , 5. , 4.8, 7. , 5. , 6. ])"
      ]
     },
     "execution_count": 21,
     "metadata": {},
     "output_type": "execute_result"
    }
   ],
   "source": [
    "arr2 = np.array([5,8,9,6,5,4.8,7,5,6])\n",
    "arr2"
   ]
  },
  {
   "cell_type": "code",
   "execution_count": 24,
   "id": "9cbfc2be",
   "metadata": {},
   "outputs": [
    {
     "data": {
      "text/plain": [
       "1"
      ]
     },
     "execution_count": 24,
     "metadata": {},
     "output_type": "execute_result"
    }
   ],
   "source": [
    "arr2.ndim"
   ]
  },
  {
   "cell_type": "code",
   "execution_count": 26,
   "id": "0b21ee4d",
   "metadata": {},
   "outputs": [
    {
     "data": {
      "text/plain": [
       "(9,)"
      ]
     },
     "execution_count": 26,
     "metadata": {},
     "output_type": "execute_result"
    }
   ],
   "source": [
    "arr2.shape"
   ]
  },
  {
   "cell_type": "code",
   "execution_count": 27,
   "id": "81bd21ab",
   "metadata": {},
   "outputs": [
    {
     "data": {
      "text/plain": [
       "9"
      ]
     },
     "execution_count": 27,
     "metadata": {},
     "output_type": "execute_result"
    }
   ],
   "source": [
    "arr2.size"
   ]
  },
  {
   "cell_type": "code",
   "execution_count": 47,
   "id": "9c4082b7",
   "metadata": {},
   "outputs": [
    {
     "data": {
      "text/plain": [
       "array([[2, 6, 9],\n",
       "       [9, 2, 5]])"
      ]
     },
     "execution_count": 47,
     "metadata": {},
     "output_type": "execute_result"
    }
   ],
   "source": [
    "arr3 = np.array([\n",
    "    [2,6,9],\n",
    "    [9,2,5]\n",
    "])\n",
    "arr3.setflags(write=False)\n",
    "arr3"
   ]
  },
  {
   "cell_type": "code",
   "execution_count": 49,
   "id": "5ab17dae",
   "metadata": {},
   "outputs": [
    {
     "ename": "ValueError",
     "evalue": "assignment destination is read-only",
     "output_type": "error",
     "traceback": [
      "\u001b[1;31m---------------------------------------------------------------------------\u001b[0m",
      "\u001b[1;31mValueError\u001b[0m                                Traceback (most recent call last)",
      "Cell \u001b[1;32mIn [49], line 1\u001b[0m\n\u001b[1;32m----> 1\u001b[0m \u001b[43marr3\u001b[49m\u001b[43m[\u001b[49m\u001b[38;5;241;43m0\u001b[39;49m\u001b[43m]\u001b[49m\u001b[43m[\u001b[49m\u001b[38;5;241;43m0\u001b[39;49m\u001b[43m]\u001b[49m \u001b[38;5;241m=\u001b[39m \u001b[38;5;241m3\u001b[39m\n",
      "\u001b[1;31mValueError\u001b[0m: assignment destination is read-only"
     ]
    }
   ],
   "source": [
    "arr3[0][0] = 3"
   ]
  },
  {
   "cell_type": "code",
   "execution_count": null,
   "id": "48338702",
   "metadata": {},
   "outputs": [],
   "source": []
  },
  {
   "cell_type": "code",
   "execution_count": 29,
   "id": "2060764c",
   "metadata": {},
   "outputs": [
    {
     "data": {
      "text/plain": [
       "2"
      ]
     },
     "execution_count": 29,
     "metadata": {},
     "output_type": "execute_result"
    }
   ],
   "source": [
    "arr3.ndim"
   ]
  },
  {
   "cell_type": "code",
   "execution_count": 31,
   "id": "fd238537",
   "metadata": {},
   "outputs": [
    {
     "data": {
      "text/plain": [
       "(2, 3)"
      ]
     },
     "execution_count": 31,
     "metadata": {},
     "output_type": "execute_result"
    }
   ],
   "source": [
    "arr3.shape"
   ]
  },
  {
   "cell_type": "code",
   "execution_count": 32,
   "id": "379d2b18",
   "metadata": {},
   "outputs": [
    {
     "data": {
      "text/plain": [
       "6"
      ]
     },
     "execution_count": 32,
     "metadata": {},
     "output_type": "execute_result"
    }
   ],
   "source": [
    "arr3.size"
   ]
  },
  {
   "cell_type": "code",
   "execution_count": 33,
   "id": "5e7c3fca",
   "metadata": {},
   "outputs": [
    {
     "data": {
      "text/plain": [
       "array([5. , 8. , 9. , 6. , 5. , 4.8, 7. , 5. , 6. ])"
      ]
     },
     "execution_count": 33,
     "metadata": {},
     "output_type": "execute_result"
    }
   ],
   "source": [
    "arr2"
   ]
  },
  {
   "cell_type": "code",
   "execution_count": 34,
   "id": "4c491ef3",
   "metadata": {},
   "outputs": [],
   "source": [
    "arr2[6] = 5"
   ]
  },
  {
   "cell_type": "code",
   "execution_count": 35,
   "id": "998cc1eb",
   "metadata": {},
   "outputs": [
    {
     "data": {
      "text/plain": [
       "array([5. , 8. , 9. , 6. , 5. , 4.8, 5. , 5. , 6. ])"
      ]
     },
     "execution_count": 35,
     "metadata": {},
     "output_type": "execute_result"
    }
   ],
   "source": [
    "arr2"
   ]
  },
  {
   "cell_type": "code",
   "execution_count": 37,
   "id": "28106af2",
   "metadata": {},
   "outputs": [],
   "source": [
    "arr2[5]= 9"
   ]
  },
  {
   "cell_type": "code",
   "execution_count": 38,
   "id": "e159c84a",
   "metadata": {},
   "outputs": [
    {
     "data": {
      "text/plain": [
       "array([5., 8., 9., 6., 5., 9., 5., 5., 6.])"
      ]
     },
     "execution_count": 38,
     "metadata": {},
     "output_type": "execute_result"
    }
   ],
   "source": [
    "arr2"
   ]
  },
  {
   "cell_type": "code",
   "execution_count": 41,
   "id": "33353a4b",
   "metadata": {},
   "outputs": [
    {
     "data": {
      "text/plain": [
       "array([[5., 8., 9.],\n",
       "       [6., 5., 9.],\n",
       "       [5., 5., 6.]])"
      ]
     },
     "execution_count": 41,
     "metadata": {},
     "output_type": "execute_result"
    }
   ],
   "source": [
    "arr2.reshape((3,3))"
   ]
  },
  {
   "cell_type": "code",
   "execution_count": 42,
   "id": "0ce9b57e",
   "metadata": {},
   "outputs": [
    {
     "data": {
      "text/plain": [
       "array([[2, 6, 9],\n",
       "       [9, 2, 5]])"
      ]
     },
     "execution_count": 42,
     "metadata": {},
     "output_type": "execute_result"
    }
   ],
   "source": [
    "arr3"
   ]
  },
  {
   "cell_type": "code",
   "execution_count": 43,
   "id": "aa16ff1e",
   "metadata": {},
   "outputs": [
    {
     "data": {
      "text/plain": [
       "array([2, 6, 9, 9, 2, 5])"
      ]
     },
     "execution_count": 43,
     "metadata": {},
     "output_type": "execute_result"
    }
   ],
   "source": [
    "arr3.flatten()"
   ]
  },
  {
   "cell_type": "code",
   "execution_count": 6,
   "id": "a36e857d",
   "metadata": {},
   "outputs": [
    {
     "data": {
      "text/plain": [
       "array([[1, 2, 6],\n",
       "       [6, 8, 9],\n",
       "       [6, 9, 8]])"
      ]
     },
     "execution_count": 6,
     "metadata": {},
     "output_type": "execute_result"
    }
   ],
   "source": [
    "arr4 = np.array(\n",
    "    [[1,2,6],\n",
    "     [6,8,9],\n",
    "     [6,9,8]]\n",
    "               )\n",
    "arr4"
   ]
  },
  {
   "cell_type": "code",
   "execution_count": 7,
   "id": "958ca4da",
   "metadata": {},
   "outputs": [
    {
     "data": {
      "text/plain": [
       "2"
      ]
     },
     "execution_count": 7,
     "metadata": {},
     "output_type": "execute_result"
    }
   ],
   "source": [
    "arr4.ndim"
   ]
  },
  {
   "cell_type": "code",
   "execution_count": 8,
   "id": "5df5d1e5",
   "metadata": {},
   "outputs": [
    {
     "data": {
      "text/plain": [
       "(3, 3)"
      ]
     },
     "execution_count": 8,
     "metadata": {},
     "output_type": "execute_result"
    }
   ],
   "source": [
    "arr4.shape"
   ]
  },
  {
   "cell_type": "code",
   "execution_count": 9,
   "id": "371a3d70",
   "metadata": {},
   "outputs": [
    {
     "data": {
      "text/plain": [
       "array([[1, 5, 6],\n",
       "       [9, 8, 5],\n",
       "       [1, 8, 8]])"
      ]
     },
     "execution_count": 9,
     "metadata": {},
     "output_type": "execute_result"
    }
   ],
   "source": [
    "arr5 = np.array(\n",
    "    [[1,5,6],\n",
    "     [9,8,5],\n",
    "     [1,8,8]]\n",
    "               )\n",
    "arr5"
   ]
  },
  {
   "cell_type": "code",
   "execution_count": 14,
   "id": "a972db2c",
   "metadata": {},
   "outputs": [],
   "source": [
    "#arr5[paralles][row][coll]"
   ]
  },
  {
   "cell_type": "code",
   "execution_count": 15,
   "id": "9d19239e",
   "metadata": {},
   "outputs": [
    {
     "data": {
      "text/plain": [
       "5"
      ]
     },
     "execution_count": 15,
     "metadata": {},
     "output_type": "execute_result"
    }
   ],
   "source": [
    "arr5[1][2]"
   ]
  },
  {
   "cell_type": "code",
   "execution_count": null,
   "id": "5bf73b68",
   "metadata": {},
   "outputs": [],
   "source": []
  },
  {
   "cell_type": "code",
   "execution_count": null,
   "id": "5ad6adcc",
   "metadata": {},
   "outputs": [],
   "source": []
  },
  {
   "cell_type": "code",
   "execution_count": 11,
   "id": "53d6e437",
   "metadata": {},
   "outputs": [
    {
     "data": {
      "text/plain": [
       "matrix([[1, 5, 6],\n",
       "        [9, 8, 5],\n",
       "        [1, 8, 8]])"
      ]
     },
     "execution_count": 11,
     "metadata": {},
     "output_type": "execute_result"
    }
   ],
   "source": [
    "m1 = np.matrix(arr4)\n",
    "m2 = np.matrix(arr5)\n",
    "m2"
   ]
  },
  {
   "cell_type": "code",
   "execution_count": 12,
   "id": "ff25f13c",
   "metadata": {},
   "outputs": [
    {
     "data": {
      "text/plain": [
       "matrix([[ 25,  69,  64],\n",
       "        [ 87, 166, 148],\n",
       "        [ 95, 166, 145]])"
      ]
     },
     "execution_count": 12,
     "metadata": {},
     "output_type": "execute_result"
    }
   ],
   "source": [
    "m1 * m2"
   ]
  },
  {
   "cell_type": "markdown",
   "id": "78669ed3",
   "metadata": {},
   "source": [
    "# Pandas"
   ]
  },
  {
   "cell_type": "code",
   "execution_count": 2,
   "id": "9bf18bd5",
   "metadata": {},
   "outputs": [],
   "source": [
    "import pandas as pd"
   ]
  },
  {
   "cell_type": "code",
   "execution_count": 3,
   "id": "e666ebb4",
   "metadata": {},
   "outputs": [],
   "source": [
    "df = pd.read_csv(\"iris-data.csv\")"
   ]
  },
  {
   "cell_type": "code",
   "execution_count": 4,
   "id": "449f8ad1",
   "metadata": {},
   "outputs": [
    {
     "data": {
      "text/html": [
       "<div>\n",
       "<style scoped>\n",
       "    .dataframe tbody tr th:only-of-type {\n",
       "        vertical-align: middle;\n",
       "    }\n",
       "\n",
       "    .dataframe tbody tr th {\n",
       "        vertical-align: top;\n",
       "    }\n",
       "\n",
       "    .dataframe thead th {\n",
       "        text-align: right;\n",
       "    }\n",
       "</style>\n",
       "<table border=\"1\" class=\"dataframe\">\n",
       "  <thead>\n",
       "    <tr style=\"text-align: right;\">\n",
       "      <th></th>\n",
       "      <th>sepal-length</th>\n",
       "      <th>sepal-width</th>\n",
       "      <th>petal-length</th>\n",
       "      <th>petal-width</th>\n",
       "      <th>class</th>\n",
       "    </tr>\n",
       "  </thead>\n",
       "  <tbody>\n",
       "    <tr>\n",
       "      <th>0</th>\n",
       "      <td>5.1</td>\n",
       "      <td>3.5</td>\n",
       "      <td>1.4</td>\n",
       "      <td>0.2</td>\n",
       "      <td>Iris-setosa</td>\n",
       "    </tr>\n",
       "    <tr>\n",
       "      <th>1</th>\n",
       "      <td>4.9</td>\n",
       "      <td>3.0</td>\n",
       "      <td>1.4</td>\n",
       "      <td>0.2</td>\n",
       "      <td>Iris-setosa</td>\n",
       "    </tr>\n",
       "    <tr>\n",
       "      <th>2</th>\n",
       "      <td>4.7</td>\n",
       "      <td>3.2</td>\n",
       "      <td>1.3</td>\n",
       "      <td>0.2</td>\n",
       "      <td>Iris-setosa</td>\n",
       "    </tr>\n",
       "    <tr>\n",
       "      <th>3</th>\n",
       "      <td>4.6</td>\n",
       "      <td>3.1</td>\n",
       "      <td>1.5</td>\n",
       "      <td>0.2</td>\n",
       "      <td>Iris-setosa</td>\n",
       "    </tr>\n",
       "    <tr>\n",
       "      <th>4</th>\n",
       "      <td>5.0</td>\n",
       "      <td>3.6</td>\n",
       "      <td>1.4</td>\n",
       "      <td>0.2</td>\n",
       "      <td>Iris-setosa</td>\n",
       "    </tr>\n",
       "    <tr>\n",
       "      <th>5</th>\n",
       "      <td>5.4</td>\n",
       "      <td>3.9</td>\n",
       "      <td>1.7</td>\n",
       "      <td>0.4</td>\n",
       "      <td>Iris-setosa</td>\n",
       "    </tr>\n",
       "    <tr>\n",
       "      <th>6</th>\n",
       "      <td>4.6</td>\n",
       "      <td>3.4</td>\n",
       "      <td>1.4</td>\n",
       "      <td>0.3</td>\n",
       "      <td>Iris-setosa</td>\n",
       "    </tr>\n",
       "    <tr>\n",
       "      <th>7</th>\n",
       "      <td>5.0</td>\n",
       "      <td>3.4</td>\n",
       "      <td>1.5</td>\n",
       "      <td>0.2</td>\n",
       "      <td>Iris-setosa</td>\n",
       "    </tr>\n",
       "    <tr>\n",
       "      <th>8</th>\n",
       "      <td>4.4</td>\n",
       "      <td>2.9</td>\n",
       "      <td>1.4</td>\n",
       "      <td>0.2</td>\n",
       "      <td>Iris-setosa</td>\n",
       "    </tr>\n",
       "    <tr>\n",
       "      <th>9</th>\n",
       "      <td>4.9</td>\n",
       "      <td>3.1</td>\n",
       "      <td>1.5</td>\n",
       "      <td>0.1</td>\n",
       "      <td>Iris-setosa</td>\n",
       "    </tr>\n",
       "  </tbody>\n",
       "</table>\n",
       "</div>"
      ],
      "text/plain": [
       "   sepal-length  sepal-width  petal-length   petal-width        class\n",
       "0           5.1          3.5           1.4           0.2  Iris-setosa\n",
       "1           4.9          3.0           1.4           0.2  Iris-setosa\n",
       "2           4.7          3.2           1.3           0.2  Iris-setosa\n",
       "3           4.6          3.1           1.5           0.2  Iris-setosa\n",
       "4           5.0          3.6           1.4           0.2  Iris-setosa\n",
       "5           5.4          3.9           1.7           0.4  Iris-setosa\n",
       "6           4.6          3.4           1.4           0.3  Iris-setosa\n",
       "7           5.0          3.4           1.5           0.2  Iris-setosa\n",
       "8           4.4          2.9           1.4           0.2  Iris-setosa\n",
       "9           4.9          3.1           1.5           0.1  Iris-setosa"
      ]
     },
     "execution_count": 4,
     "metadata": {},
     "output_type": "execute_result"
    }
   ],
   "source": [
    "df.head(10)"
   ]
  },
  {
   "cell_type": "code",
   "execution_count": 5,
   "id": "bda207ba",
   "metadata": {},
   "outputs": [
    {
     "data": {
      "text/html": [
       "<div>\n",
       "<style scoped>\n",
       "    .dataframe tbody tr th:only-of-type {\n",
       "        vertical-align: middle;\n",
       "    }\n",
       "\n",
       "    .dataframe tbody tr th {\n",
       "        vertical-align: top;\n",
       "    }\n",
       "\n",
       "    .dataframe thead th {\n",
       "        text-align: right;\n",
       "    }\n",
       "</style>\n",
       "<table border=\"1\" class=\"dataframe\">\n",
       "  <thead>\n",
       "    <tr style=\"text-align: right;\">\n",
       "      <th></th>\n",
       "      <th>sepal-length</th>\n",
       "      <th>sepal-width</th>\n",
       "      <th>petal-length</th>\n",
       "      <th>petal-width</th>\n",
       "      <th>class</th>\n",
       "    </tr>\n",
       "  </thead>\n",
       "  <tbody>\n",
       "    <tr>\n",
       "      <th>140</th>\n",
       "      <td>6.7</td>\n",
       "      <td>3.1</td>\n",
       "      <td>5.6</td>\n",
       "      <td>2.4</td>\n",
       "      <td>Iris-virginica</td>\n",
       "    </tr>\n",
       "    <tr>\n",
       "      <th>141</th>\n",
       "      <td>6.9</td>\n",
       "      <td>3.1</td>\n",
       "      <td>5.1</td>\n",
       "      <td>2.3</td>\n",
       "      <td>Iris-virginica</td>\n",
       "    </tr>\n",
       "    <tr>\n",
       "      <th>142</th>\n",
       "      <td>5.8</td>\n",
       "      <td>2.7</td>\n",
       "      <td>5.1</td>\n",
       "      <td>1.9</td>\n",
       "      <td>Iris-virginica</td>\n",
       "    </tr>\n",
       "    <tr>\n",
       "      <th>143</th>\n",
       "      <td>6.8</td>\n",
       "      <td>3.2</td>\n",
       "      <td>5.9</td>\n",
       "      <td>2.3</td>\n",
       "      <td>Iris-virginica</td>\n",
       "    </tr>\n",
       "    <tr>\n",
       "      <th>144</th>\n",
       "      <td>6.7</td>\n",
       "      <td>3.3</td>\n",
       "      <td>5.7</td>\n",
       "      <td>2.5</td>\n",
       "      <td>Iris-virginica</td>\n",
       "    </tr>\n",
       "    <tr>\n",
       "      <th>145</th>\n",
       "      <td>6.7</td>\n",
       "      <td>3.0</td>\n",
       "      <td>5.2</td>\n",
       "      <td>2.3</td>\n",
       "      <td>Iris-virginica</td>\n",
       "    </tr>\n",
       "    <tr>\n",
       "      <th>146</th>\n",
       "      <td>6.3</td>\n",
       "      <td>2.5</td>\n",
       "      <td>5.0</td>\n",
       "      <td>1.9</td>\n",
       "      <td>Iris-virginica</td>\n",
       "    </tr>\n",
       "    <tr>\n",
       "      <th>147</th>\n",
       "      <td>6.5</td>\n",
       "      <td>3.0</td>\n",
       "      <td>5.2</td>\n",
       "      <td>2.0</td>\n",
       "      <td>Iris-virginica</td>\n",
       "    </tr>\n",
       "    <tr>\n",
       "      <th>148</th>\n",
       "      <td>6.2</td>\n",
       "      <td>3.4</td>\n",
       "      <td>5.4</td>\n",
       "      <td>2.3</td>\n",
       "      <td>Iris-virginica</td>\n",
       "    </tr>\n",
       "    <tr>\n",
       "      <th>149</th>\n",
       "      <td>5.9</td>\n",
       "      <td>3.0</td>\n",
       "      <td>5.1</td>\n",
       "      <td>1.8</td>\n",
       "      <td>Iris-virginica</td>\n",
       "    </tr>\n",
       "  </tbody>\n",
       "</table>\n",
       "</div>"
      ],
      "text/plain": [
       "     sepal-length  sepal-width  petal-length   petal-width           class\n",
       "140           6.7          3.1           5.6           2.4  Iris-virginica\n",
       "141           6.9          3.1           5.1           2.3  Iris-virginica\n",
       "142           5.8          2.7           5.1           1.9  Iris-virginica\n",
       "143           6.8          3.2           5.9           2.3  Iris-virginica\n",
       "144           6.7          3.3           5.7           2.5  Iris-virginica\n",
       "145           6.7          3.0           5.2           2.3  Iris-virginica\n",
       "146           6.3          2.5           5.0           1.9  Iris-virginica\n",
       "147           6.5          3.0           5.2           2.0  Iris-virginica\n",
       "148           6.2          3.4           5.4           2.3  Iris-virginica\n",
       "149           5.9          3.0           5.1           1.8  Iris-virginica"
      ]
     },
     "execution_count": 5,
     "metadata": {},
     "output_type": "execute_result"
    }
   ],
   "source": [
    "df.tail(10)"
   ]
  },
  {
   "cell_type": "code",
   "execution_count": 6,
   "id": "47e991ac",
   "metadata": {},
   "outputs": [
    {
     "data": {
      "text/plain": [
       "sepal-length            5.1\n",
       "sepal-width             3.5\n",
       "petal-length            1.4\n",
       " petal-width            0.2\n",
       "class           Iris-setosa\n",
       "Name: 0, dtype: object"
      ]
     },
     "execution_count": 6,
     "metadata": {},
     "output_type": "execute_result"
    }
   ],
   "source": [
    "df.iloc[0]"
   ]
  },
  {
   "cell_type": "code",
   "execution_count": 7,
   "id": "80f23d92",
   "metadata": {},
   "outputs": [
    {
     "data": {
      "text/html": [
       "<div>\n",
       "<style scoped>\n",
       "    .dataframe tbody tr th:only-of-type {\n",
       "        vertical-align: middle;\n",
       "    }\n",
       "\n",
       "    .dataframe tbody tr th {\n",
       "        vertical-align: top;\n",
       "    }\n",
       "\n",
       "    .dataframe thead th {\n",
       "        text-align: right;\n",
       "    }\n",
       "</style>\n",
       "<table border=\"1\" class=\"dataframe\">\n",
       "  <thead>\n",
       "    <tr style=\"text-align: right;\">\n",
       "      <th></th>\n",
       "      <th>sepal-length</th>\n",
       "      <th>sepal-width</th>\n",
       "      <th>petal-length</th>\n",
       "      <th>petal-width</th>\n",
       "      <th>class</th>\n",
       "    </tr>\n",
       "  </thead>\n",
       "  <tbody>\n",
       "    <tr>\n",
       "      <th>0</th>\n",
       "      <td>5.1</td>\n",
       "      <td>3.5</td>\n",
       "      <td>1.4</td>\n",
       "      <td>0.2</td>\n",
       "      <td>Iris-setosa</td>\n",
       "    </tr>\n",
       "    <tr>\n",
       "      <th>1</th>\n",
       "      <td>4.9</td>\n",
       "      <td>3.0</td>\n",
       "      <td>1.4</td>\n",
       "      <td>0.2</td>\n",
       "      <td>Iris-setosa</td>\n",
       "    </tr>\n",
       "    <tr>\n",
       "      <th>2</th>\n",
       "      <td>4.7</td>\n",
       "      <td>3.2</td>\n",
       "      <td>1.3</td>\n",
       "      <td>0.2</td>\n",
       "      <td>Iris-setosa</td>\n",
       "    </tr>\n",
       "    <tr>\n",
       "      <th>3</th>\n",
       "      <td>4.6</td>\n",
       "      <td>3.1</td>\n",
       "      <td>1.5</td>\n",
       "      <td>0.2</td>\n",
       "      <td>Iris-setosa</td>\n",
       "    </tr>\n",
       "    <tr>\n",
       "      <th>4</th>\n",
       "      <td>5.0</td>\n",
       "      <td>3.6</td>\n",
       "      <td>1.4</td>\n",
       "      <td>0.2</td>\n",
       "      <td>Iris-setosa</td>\n",
       "    </tr>\n",
       "    <tr>\n",
       "      <th>5</th>\n",
       "      <td>5.4</td>\n",
       "      <td>3.9</td>\n",
       "      <td>1.7</td>\n",
       "      <td>0.4</td>\n",
       "      <td>Iris-setosa</td>\n",
       "    </tr>\n",
       "    <tr>\n",
       "      <th>6</th>\n",
       "      <td>4.6</td>\n",
       "      <td>3.4</td>\n",
       "      <td>1.4</td>\n",
       "      <td>0.3</td>\n",
       "      <td>Iris-setosa</td>\n",
       "    </tr>\n",
       "  </tbody>\n",
       "</table>\n",
       "</div>"
      ],
      "text/plain": [
       "   sepal-length  sepal-width  petal-length   petal-width        class\n",
       "0           5.1          3.5           1.4           0.2  Iris-setosa\n",
       "1           4.9          3.0           1.4           0.2  Iris-setosa\n",
       "2           4.7          3.2           1.3           0.2  Iris-setosa\n",
       "3           4.6          3.1           1.5           0.2  Iris-setosa\n",
       "4           5.0          3.6           1.4           0.2  Iris-setosa\n",
       "5           5.4          3.9           1.7           0.4  Iris-setosa\n",
       "6           4.6          3.4           1.4           0.3  Iris-setosa"
      ]
     },
     "execution_count": 7,
     "metadata": {},
     "output_type": "execute_result"
    }
   ],
   "source": [
    "df.iloc[:7]"
   ]
  },
  {
   "cell_type": "code",
   "execution_count": 8,
   "id": "30a11531",
   "metadata": {},
   "outputs": [
    {
     "data": {
      "text/html": [
       "<div>\n",
       "<style scoped>\n",
       "    .dataframe tbody tr th:only-of-type {\n",
       "        vertical-align: middle;\n",
       "    }\n",
       "\n",
       "    .dataframe tbody tr th {\n",
       "        vertical-align: top;\n",
       "    }\n",
       "\n",
       "    .dataframe thead th {\n",
       "        text-align: right;\n",
       "    }\n",
       "</style>\n",
       "<table border=\"1\" class=\"dataframe\">\n",
       "  <thead>\n",
       "    <tr style=\"text-align: right;\">\n",
       "      <th></th>\n",
       "      <th>sepal-length</th>\n",
       "      <th>sepal-width</th>\n",
       "      <th>petal-length</th>\n",
       "      <th>petal-width</th>\n",
       "    </tr>\n",
       "  </thead>\n",
       "  <tbody>\n",
       "    <tr>\n",
       "      <th>count</th>\n",
       "      <td>150.000000</td>\n",
       "      <td>150.000000</td>\n",
       "      <td>150.000000</td>\n",
       "      <td>150.000000</td>\n",
       "    </tr>\n",
       "    <tr>\n",
       "      <th>mean</th>\n",
       "      <td>5.843333</td>\n",
       "      <td>3.054000</td>\n",
       "      <td>3.758667</td>\n",
       "      <td>1.198667</td>\n",
       "    </tr>\n",
       "    <tr>\n",
       "      <th>std</th>\n",
       "      <td>0.828066</td>\n",
       "      <td>0.433594</td>\n",
       "      <td>1.764420</td>\n",
       "      <td>0.763161</td>\n",
       "    </tr>\n",
       "    <tr>\n",
       "      <th>min</th>\n",
       "      <td>4.300000</td>\n",
       "      <td>2.000000</td>\n",
       "      <td>1.000000</td>\n",
       "      <td>0.100000</td>\n",
       "    </tr>\n",
       "    <tr>\n",
       "      <th>25%</th>\n",
       "      <td>5.100000</td>\n",
       "      <td>2.800000</td>\n",
       "      <td>1.600000</td>\n",
       "      <td>0.300000</td>\n",
       "    </tr>\n",
       "    <tr>\n",
       "      <th>50%</th>\n",
       "      <td>5.800000</td>\n",
       "      <td>3.000000</td>\n",
       "      <td>4.350000</td>\n",
       "      <td>1.300000</td>\n",
       "    </tr>\n",
       "    <tr>\n",
       "      <th>75%</th>\n",
       "      <td>6.400000</td>\n",
       "      <td>3.300000</td>\n",
       "      <td>5.100000</td>\n",
       "      <td>1.800000</td>\n",
       "    </tr>\n",
       "    <tr>\n",
       "      <th>max</th>\n",
       "      <td>7.900000</td>\n",
       "      <td>4.400000</td>\n",
       "      <td>6.900000</td>\n",
       "      <td>2.500000</td>\n",
       "    </tr>\n",
       "  </tbody>\n",
       "</table>\n",
       "</div>"
      ],
      "text/plain": [
       "       sepal-length  sepal-width  petal-length   petal-width\n",
       "count    150.000000   150.000000    150.000000    150.000000\n",
       "mean       5.843333     3.054000      3.758667      1.198667\n",
       "std        0.828066     0.433594      1.764420      0.763161\n",
       "min        4.300000     2.000000      1.000000      0.100000\n",
       "25%        5.100000     2.800000      1.600000      0.300000\n",
       "50%        5.800000     3.000000      4.350000      1.300000\n",
       "75%        6.400000     3.300000      5.100000      1.800000\n",
       "max        7.900000     4.400000      6.900000      2.500000"
      ]
     },
     "execution_count": 8,
     "metadata": {},
     "output_type": "execute_result"
    }
   ],
   "source": [
    "df.describe()"
   ]
  },
  {
   "cell_type": "code",
   "execution_count": 9,
   "id": "551fd3d4",
   "metadata": {},
   "outputs": [
    {
     "name": "stdout",
     "output_type": "stream",
     "text": [
      "<class 'pandas.core.frame.DataFrame'>\n",
      "RangeIndex: 150 entries, 0 to 149\n",
      "Data columns (total 5 columns):\n",
      " #   Column        Non-Null Count  Dtype  \n",
      "---  ------        --------------  -----  \n",
      " 0   sepal-length  150 non-null    float64\n",
      " 1   sepal-width   150 non-null    float64\n",
      " 2   petal-length  150 non-null    float64\n",
      " 3    petal-width  150 non-null    float64\n",
      " 4   class         150 non-null    object \n",
      "dtypes: float64(4), object(1)\n",
      "memory usage: 6.0+ KB\n"
     ]
    }
   ],
   "source": [
    "df.info()"
   ]
  },
  {
   "cell_type": "code",
   "execution_count": 10,
   "id": "7882a463",
   "metadata": {},
   "outputs": [
    {
     "data": {
      "text/html": [
       "<div>\n",
       "<style scoped>\n",
       "    .dataframe tbody tr th:only-of-type {\n",
       "        vertical-align: middle;\n",
       "    }\n",
       "\n",
       "    .dataframe tbody tr th {\n",
       "        vertical-align: top;\n",
       "    }\n",
       "\n",
       "    .dataframe thead th {\n",
       "        text-align: right;\n",
       "    }\n",
       "</style>\n",
       "<table border=\"1\" class=\"dataframe\">\n",
       "  <thead>\n",
       "    <tr style=\"text-align: right;\">\n",
       "      <th></th>\n",
       "      <th>class</th>\n",
       "    </tr>\n",
       "  </thead>\n",
       "  <tbody>\n",
       "    <tr>\n",
       "      <th>count</th>\n",
       "      <td>150</td>\n",
       "    </tr>\n",
       "    <tr>\n",
       "      <th>unique</th>\n",
       "      <td>3</td>\n",
       "    </tr>\n",
       "    <tr>\n",
       "      <th>top</th>\n",
       "      <td>Iris-setosa</td>\n",
       "    </tr>\n",
       "    <tr>\n",
       "      <th>freq</th>\n",
       "      <td>50</td>\n",
       "    </tr>\n",
       "  </tbody>\n",
       "</table>\n",
       "</div>"
      ],
      "text/plain": [
       "              class\n",
       "count           150\n",
       "unique            3\n",
       "top     Iris-setosa\n",
       "freq             50"
      ]
     },
     "execution_count": 10,
     "metadata": {},
     "output_type": "execute_result"
    }
   ],
   "source": [
    "df.describe(include='object')"
   ]
  },
  {
   "cell_type": "code",
   "execution_count": 11,
   "id": "a116b90f",
   "metadata": {},
   "outputs": [
    {
     "data": {
      "text/plain": [
       "0      5.1\n",
       "1      4.9\n",
       "2      4.7\n",
       "3      4.6\n",
       "4      5.0\n",
       "      ... \n",
       "145    6.7\n",
       "146    6.3\n",
       "147    6.5\n",
       "148    6.2\n",
       "149    5.9\n",
       "Name: sepal-length, Length: 150, dtype: float64"
      ]
     },
     "execution_count": 11,
     "metadata": {},
     "output_type": "execute_result"
    }
   ],
   "source": [
    "df['sepal-length']"
   ]
  },
  {
   "cell_type": "code",
   "execution_count": 12,
   "id": "24414bc3",
   "metadata": {},
   "outputs": [
    {
     "data": {
      "text/plain": [
       "sepal-length            5.1\n",
       "sepal-width             3.5\n",
       "petal-length            1.4\n",
       " petal-width            0.2\n",
       "class           Iris-setosa\n",
       "Name: 0, dtype: object"
      ]
     },
     "execution_count": 12,
     "metadata": {},
     "output_type": "execute_result"
    }
   ],
   "source": [
    "df.iloc[0]"
   ]
  },
  {
   "cell_type": "code",
   "execution_count": 13,
   "id": "339c479c",
   "metadata": {},
   "outputs": [
    {
     "data": {
      "text/html": [
       "<div>\n",
       "<style scoped>\n",
       "    .dataframe tbody tr th:only-of-type {\n",
       "        vertical-align: middle;\n",
       "    }\n",
       "\n",
       "    .dataframe tbody tr th {\n",
       "        vertical-align: top;\n",
       "    }\n",
       "\n",
       "    .dataframe thead th {\n",
       "        text-align: right;\n",
       "    }\n",
       "</style>\n",
       "<table border=\"1\" class=\"dataframe\">\n",
       "  <thead>\n",
       "    <tr style=\"text-align: right;\">\n",
       "      <th></th>\n",
       "      <th>sepal-length</th>\n",
       "      <th>petal-length</th>\n",
       "    </tr>\n",
       "  </thead>\n",
       "  <tbody>\n",
       "    <tr>\n",
       "      <th>0</th>\n",
       "      <td>5.1</td>\n",
       "      <td>1.4</td>\n",
       "    </tr>\n",
       "    <tr>\n",
       "      <th>1</th>\n",
       "      <td>4.9</td>\n",
       "      <td>1.4</td>\n",
       "    </tr>\n",
       "    <tr>\n",
       "      <th>2</th>\n",
       "      <td>4.7</td>\n",
       "      <td>1.3</td>\n",
       "    </tr>\n",
       "    <tr>\n",
       "      <th>3</th>\n",
       "      <td>4.6</td>\n",
       "      <td>1.5</td>\n",
       "    </tr>\n",
       "    <tr>\n",
       "      <th>4</th>\n",
       "      <td>5.0</td>\n",
       "      <td>1.4</td>\n",
       "    </tr>\n",
       "    <tr>\n",
       "      <th>5</th>\n",
       "      <td>5.4</td>\n",
       "      <td>1.7</td>\n",
       "    </tr>\n",
       "    <tr>\n",
       "      <th>6</th>\n",
       "      <td>4.6</td>\n",
       "      <td>1.4</td>\n",
       "    </tr>\n",
       "    <tr>\n",
       "      <th>7</th>\n",
       "      <td>5.0</td>\n",
       "      <td>1.5</td>\n",
       "    </tr>\n",
       "    <tr>\n",
       "      <th>8</th>\n",
       "      <td>4.4</td>\n",
       "      <td>1.4</td>\n",
       "    </tr>\n",
       "    <tr>\n",
       "      <th>9</th>\n",
       "      <td>4.9</td>\n",
       "      <td>1.5</td>\n",
       "    </tr>\n",
       "  </tbody>\n",
       "</table>\n",
       "</div>"
      ],
      "text/plain": [
       "   sepal-length  petal-length\n",
       "0           5.1           1.4\n",
       "1           4.9           1.4\n",
       "2           4.7           1.3\n",
       "3           4.6           1.5\n",
       "4           5.0           1.4\n",
       "5           5.4           1.7\n",
       "6           4.6           1.4\n",
       "7           5.0           1.5\n",
       "8           4.4           1.4\n",
       "9           4.9           1.5"
      ]
     },
     "execution_count": 13,
     "metadata": {},
     "output_type": "execute_result"
    }
   ],
   "source": [
    "df[ ['sepal-length', 'petal-length' ] ].iloc[:10]"
   ]
  },
  {
   "cell_type": "code",
   "execution_count": 14,
   "id": "10613e53",
   "metadata": {},
   "outputs": [
    {
     "data": {
      "text/plain": [
       "Index(['sepal-length', 'sepal-width', 'petal-length', ' petal-width', 'class'], dtype='object')"
      ]
     },
     "execution_count": 14,
     "metadata": {},
     "output_type": "execute_result"
    }
   ],
   "source": [
    "df.columns"
   ]
  },
  {
   "cell_type": "code",
   "execution_count": 26,
   "id": "18cf4e10",
   "metadata": {},
   "outputs": [
    {
     "ename": "TypeError",
     "evalue": "Cannot perform 'rand_' with a dtyped [float64] array and scalar of type [bool]",
     "output_type": "error",
     "traceback": [
      "\u001b[1;31m---------------------------------------------------------------------------\u001b[0m",
      "\u001b[1;31mTypeError\u001b[0m                                 Traceback (most recent call last)",
      "File \u001b[1;32m~\\AppData\\Local\\Programs\\Python\\Python311\\Lib\\site-packages\\pandas\\core\\ops\\array_ops.py:305\u001b[0m, in \u001b[0;36mna_logical_op\u001b[1;34m(x, y, op)\u001b[0m\n\u001b[0;32m    296\u001b[0m \u001b[38;5;28;01mtry\u001b[39;00m:\n\u001b[0;32m    297\u001b[0m     \u001b[38;5;66;03m# For exposition, write:\u001b[39;00m\n\u001b[0;32m    298\u001b[0m     \u001b[38;5;66;03m#  yarr = isinstance(y, np.ndarray)\u001b[39;00m\n\u001b[1;32m   (...)\u001b[0m\n\u001b[0;32m    303\u001b[0m     \u001b[38;5;66;03m# Then Cases where this goes through without raising include:\u001b[39;00m\n\u001b[0;32m    304\u001b[0m     \u001b[38;5;66;03m#  (xint or xbool) and (yint or bool)\u001b[39;00m\n\u001b[1;32m--> 305\u001b[0m     result \u001b[38;5;241m=\u001b[39m \u001b[43mop\u001b[49m\u001b[43m(\u001b[49m\u001b[43mx\u001b[49m\u001b[43m,\u001b[49m\u001b[43m \u001b[49m\u001b[43my\u001b[49m\u001b[43m)\u001b[49m\n\u001b[0;32m    306\u001b[0m \u001b[38;5;28;01mexcept\u001b[39;00m \u001b[38;5;167;01mTypeError\u001b[39;00m:\n",
      "File \u001b[1;32m~\\AppData\\Local\\Programs\\Python\\Python311\\Lib\\site-packages\\pandas\\core\\roperator.py:54\u001b[0m, in \u001b[0;36mrand_\u001b[1;34m(left, right)\u001b[0m\n\u001b[0;32m     53\u001b[0m \u001b[38;5;28;01mdef\u001b[39;00m \u001b[38;5;21mrand_\u001b[39m(left, right):\n\u001b[1;32m---> 54\u001b[0m     \u001b[38;5;28;01mreturn\u001b[39;00m \u001b[43moperator\u001b[49m\u001b[38;5;241;43m.\u001b[39;49m\u001b[43mand_\u001b[49m\u001b[43m(\u001b[49m\u001b[43mright\u001b[49m\u001b[43m,\u001b[49m\u001b[43m \u001b[49m\u001b[43mleft\u001b[49m\u001b[43m)\u001b[49m\n",
      "\u001b[1;31mTypeError\u001b[0m: ufunc 'bitwise_and' not supported for the input types, and the inputs could not be safely coerced to any supported types according to the casting rule ''safe''",
      "\nDuring handling of the above exception, another exception occurred:\n",
      "\u001b[1;31mValueError\u001b[0m                                Traceback (most recent call last)",
      "File \u001b[1;32m~\\AppData\\Local\\Programs\\Python\\Python311\\Lib\\site-packages\\pandas\\core\\ops\\array_ops.py:319\u001b[0m, in \u001b[0;36mna_logical_op\u001b[1;34m(x, y, op)\u001b[0m\n\u001b[0;32m    318\u001b[0m \u001b[38;5;28;01mtry\u001b[39;00m:\n\u001b[1;32m--> 319\u001b[0m     result \u001b[38;5;241m=\u001b[39m \u001b[43mlibops\u001b[49m\u001b[38;5;241;43m.\u001b[39;49m\u001b[43mscalar_binop\u001b[49m\u001b[43m(\u001b[49m\u001b[43mx\u001b[49m\u001b[43m,\u001b[49m\u001b[43m \u001b[49m\u001b[43my\u001b[49m\u001b[43m,\u001b[49m\u001b[43m \u001b[49m\u001b[43mop\u001b[49m\u001b[43m)\u001b[49m\n\u001b[0;32m    320\u001b[0m \u001b[38;5;28;01mexcept\u001b[39;00m (\n\u001b[0;32m    321\u001b[0m     \u001b[38;5;167;01mTypeError\u001b[39;00m,\n\u001b[0;32m    322\u001b[0m     \u001b[38;5;167;01mValueError\u001b[39;00m,\n\u001b[1;32m   (...)\u001b[0m\n\u001b[0;32m    325\u001b[0m     \u001b[38;5;167;01mNotImplementedError\u001b[39;00m,\n\u001b[0;32m    326\u001b[0m ) \u001b[38;5;28;01mas\u001b[39;00m err:\n",
      "File \u001b[1;32m~\\AppData\\Local\\Programs\\Python\\Python311\\Lib\\site-packages\\pandas\\_libs\\ops.pyx:180\u001b[0m, in \u001b[0;36mpandas._libs.ops.scalar_binop\u001b[1;34m()\u001b[0m\n",
      "\u001b[1;31mValueError\u001b[0m: Buffer dtype mismatch, expected 'Python object' but got 'double'",
      "\nThe above exception was the direct cause of the following exception:\n",
      "\u001b[1;31mTypeError\u001b[0m                                 Traceback (most recent call last)",
      "Cell \u001b[1;32mIn [26], line 1\u001b[0m\n\u001b[1;32m----> 1\u001b[0m df[ [df[\u001b[38;5;124m'\u001b[39m\u001b[38;5;124msepal-length\u001b[39m\u001b[38;5;124m'\u001b[39m]\u001b[38;5;241m==\u001b[39m\u001b[38;5;241;43m6.4\u001b[39;49m\u001b[38;5;241;43m&\u001b[39;49m\u001b[43mdf\u001b[49m\u001b[43m[\u001b[49m\u001b[38;5;124;43m'\u001b[39;49m\u001b[38;5;124;43mpetal-length\u001b[39;49m\u001b[38;5;124;43m'\u001b[39;49m\u001b[43m]\u001b[49m\u001b[38;5;241m>\u001b[39m\u001b[38;5;241m5\u001b[39m] ]\n",
      "File \u001b[1;32m~\\AppData\\Local\\Programs\\Python\\Python311\\Lib\\site-packages\\pandas\\core\\ops\\common.py:72\u001b[0m, in \u001b[0;36m_unpack_zerodim_and_defer.<locals>.new_method\u001b[1;34m(self, other)\u001b[0m\n\u001b[0;32m     68\u001b[0m             \u001b[38;5;28;01mreturn\u001b[39;00m \u001b[38;5;28mNotImplemented\u001b[39m\n\u001b[0;32m     70\u001b[0m other \u001b[38;5;241m=\u001b[39m item_from_zerodim(other)\n\u001b[1;32m---> 72\u001b[0m \u001b[38;5;28;01mreturn\u001b[39;00m \u001b[43mmethod\u001b[49m\u001b[43m(\u001b[49m\u001b[38;5;28;43mself\u001b[39;49m\u001b[43m,\u001b[49m\u001b[43m \u001b[49m\u001b[43mother\u001b[49m\u001b[43m)\u001b[49m\n",
      "File \u001b[1;32m~\\AppData\\Local\\Programs\\Python\\Python311\\Lib\\site-packages\\pandas\\core\\arraylike.py:76\u001b[0m, in \u001b[0;36mOpsMixin.__rand__\u001b[1;34m(self, other)\u001b[0m\n\u001b[0;32m     74\u001b[0m \u001b[38;5;129m@unpack_zerodim_and_defer\u001b[39m(\u001b[38;5;124m\"\u001b[39m\u001b[38;5;124m__rand__\u001b[39m\u001b[38;5;124m\"\u001b[39m)\n\u001b[0;32m     75\u001b[0m \u001b[38;5;28;01mdef\u001b[39;00m \u001b[38;5;21m__rand__\u001b[39m(\u001b[38;5;28mself\u001b[39m, other):\n\u001b[1;32m---> 76\u001b[0m     \u001b[38;5;28;01mreturn\u001b[39;00m \u001b[38;5;28;43mself\u001b[39;49m\u001b[38;5;241;43m.\u001b[39;49m\u001b[43m_logical_method\u001b[49m\u001b[43m(\u001b[49m\u001b[43mother\u001b[49m\u001b[43m,\u001b[49m\u001b[43m \u001b[49m\u001b[43mroperator\u001b[49m\u001b[38;5;241;43m.\u001b[39;49m\u001b[43mrand_\u001b[49m\u001b[43m)\u001b[49m\n",
      "File \u001b[1;32m~\\AppData\\Local\\Programs\\Python\\Python311\\Lib\\site-packages\\pandas\\core\\series.py:6254\u001b[0m, in \u001b[0;36mSeries._logical_method\u001b[1;34m(self, other, op)\u001b[0m\n\u001b[0;32m   6251\u001b[0m lvalues \u001b[38;5;241m=\u001b[39m \u001b[38;5;28mself\u001b[39m\u001b[38;5;241m.\u001b[39m_values\n\u001b[0;32m   6252\u001b[0m rvalues \u001b[38;5;241m=\u001b[39m extract_array(other, extract_numpy\u001b[38;5;241m=\u001b[39m\u001b[38;5;28;01mTrue\u001b[39;00m, extract_range\u001b[38;5;241m=\u001b[39m\u001b[38;5;28;01mTrue\u001b[39;00m)\n\u001b[1;32m-> 6254\u001b[0m res_values \u001b[38;5;241m=\u001b[39m \u001b[43mops\u001b[49m\u001b[38;5;241;43m.\u001b[39;49m\u001b[43mlogical_op\u001b[49m\u001b[43m(\u001b[49m\u001b[43mlvalues\u001b[49m\u001b[43m,\u001b[49m\u001b[43m \u001b[49m\u001b[43mrvalues\u001b[49m\u001b[43m,\u001b[49m\u001b[43m \u001b[49m\u001b[43mop\u001b[49m\u001b[43m)\u001b[49m\n\u001b[0;32m   6255\u001b[0m \u001b[38;5;28;01mreturn\u001b[39;00m \u001b[38;5;28mself\u001b[39m\u001b[38;5;241m.\u001b[39m_construct_result(res_values, name\u001b[38;5;241m=\u001b[39mres_name)\n",
      "File \u001b[1;32m~\\AppData\\Local\\Programs\\Python\\Python311\\Lib\\site-packages\\pandas\\core\\ops\\array_ops.py:395\u001b[0m, in \u001b[0;36mlogical_op\u001b[1;34m(left, right, op)\u001b[0m\n\u001b[0;32m    391\u001b[0m \u001b[38;5;66;03m# For int vs int `^`, `|`, `&` are bitwise operators and return\u001b[39;00m\n\u001b[0;32m    392\u001b[0m \u001b[38;5;66;03m#   integer dtypes.  Otherwise these are boolean ops\u001b[39;00m\n\u001b[0;32m    393\u001b[0m filler \u001b[38;5;241m=\u001b[39m fill_int \u001b[38;5;28;01mif\u001b[39;00m is_self_int_dtype \u001b[38;5;129;01mand\u001b[39;00m is_other_int_dtype \u001b[38;5;28;01melse\u001b[39;00m fill_bool\n\u001b[1;32m--> 395\u001b[0m res_values \u001b[38;5;241m=\u001b[39m \u001b[43mna_logical_op\u001b[49m\u001b[43m(\u001b[49m\u001b[43mlvalues\u001b[49m\u001b[43m,\u001b[49m\u001b[43m \u001b[49m\u001b[43mrvalues\u001b[49m\u001b[43m,\u001b[49m\u001b[43m \u001b[49m\u001b[43mop\u001b[49m\u001b[43m)\u001b[49m\n\u001b[0;32m    396\u001b[0m \u001b[38;5;66;03m# error: Cannot call function of unknown type\u001b[39;00m\n\u001b[0;32m    397\u001b[0m res_values \u001b[38;5;241m=\u001b[39m filler(res_values)  \u001b[38;5;66;03m# type: ignore[operator]\u001b[39;00m\n",
      "File \u001b[1;32m~\\AppData\\Local\\Programs\\Python\\Python311\\Lib\\site-packages\\pandas\\core\\ops\\array_ops.py:328\u001b[0m, in \u001b[0;36mna_logical_op\u001b[1;34m(x, y, op)\u001b[0m\n\u001b[0;32m    320\u001b[0m         \u001b[38;5;28;01mexcept\u001b[39;00m (\n\u001b[0;32m    321\u001b[0m             \u001b[38;5;167;01mTypeError\u001b[39;00m,\n\u001b[0;32m    322\u001b[0m             \u001b[38;5;167;01mValueError\u001b[39;00m,\n\u001b[1;32m   (...)\u001b[0m\n\u001b[0;32m    325\u001b[0m             \u001b[38;5;167;01mNotImplementedError\u001b[39;00m,\n\u001b[0;32m    326\u001b[0m         ) \u001b[38;5;28;01mas\u001b[39;00m err:\n\u001b[0;32m    327\u001b[0m             typ \u001b[38;5;241m=\u001b[39m \u001b[38;5;28mtype\u001b[39m(y)\u001b[38;5;241m.\u001b[39m\u001b[38;5;18m__name__\u001b[39m\n\u001b[1;32m--> 328\u001b[0m             \u001b[38;5;28;01mraise\u001b[39;00m \u001b[38;5;167;01mTypeError\u001b[39;00m(\n\u001b[0;32m    329\u001b[0m                 \u001b[38;5;124mf\u001b[39m\u001b[38;5;124m\"\u001b[39m\u001b[38;5;124mCannot perform \u001b[39m\u001b[38;5;124m'\u001b[39m\u001b[38;5;132;01m{\u001b[39;00mop\u001b[38;5;241m.\u001b[39m\u001b[38;5;18m__name__\u001b[39m\u001b[38;5;132;01m}\u001b[39;00m\u001b[38;5;124m'\u001b[39m\u001b[38;5;124m with a dtyped [\u001b[39m\u001b[38;5;132;01m{\u001b[39;00mx\u001b[38;5;241m.\u001b[39mdtype\u001b[38;5;132;01m}\u001b[39;00m\u001b[38;5;124m] array \u001b[39m\u001b[38;5;124m\"\u001b[39m\n\u001b[0;32m    330\u001b[0m                 \u001b[38;5;124mf\u001b[39m\u001b[38;5;124m\"\u001b[39m\u001b[38;5;124mand scalar of type [\u001b[39m\u001b[38;5;132;01m{\u001b[39;00mtyp\u001b[38;5;132;01m}\u001b[39;00m\u001b[38;5;124m]\u001b[39m\u001b[38;5;124m\"\u001b[39m\n\u001b[0;32m    331\u001b[0m             ) \u001b[38;5;28;01mfrom\u001b[39;00m \u001b[38;5;21;01merr\u001b[39;00m\n\u001b[0;32m    333\u001b[0m \u001b[38;5;28;01mreturn\u001b[39;00m result\u001b[38;5;241m.\u001b[39mreshape(x\u001b[38;5;241m.\u001b[39mshape)\n",
      "\u001b[1;31mTypeError\u001b[0m: Cannot perform 'rand_' with a dtyped [float64] array and scalar of type [bool]"
     ]
    }
   ],
   "source": [
    "df[ [df['sepal-length']==6.4&df['petal-length']>5] ]"
   ]
  },
  {
   "cell_type": "markdown",
   "id": "6feab43a",
   "metadata": {},
   "source": [
    "# Descriptive Stats"
   ]
  },
  {
   "cell_type": "markdown",
   "id": "885a2bf0",
   "metadata": {},
   "source": [
    "1. Numerical data\n",
    "    a. Descrete  \n",
    "    b. continuous \n",
    "2. catagorical data\n",
    "3. Ordinal data"
   ]
  },
  {
   "cell_type": "markdown",
   "id": "67dfbbec",
   "metadata": {},
   "source": [
    "mean -> averge of dataset\n",
    "median -> middle val after sorting\n",
    "mode -> more frequest val\n",
    "SD -> userd to find the unusual datapoints\n",
    "variance - > more the var more the data is spread out in the dataset\n"
   ]
  },
  {
   "cell_type": "code",
   "execution_count": 27,
   "id": "a0641899",
   "metadata": {},
   "outputs": [
    {
     "name": "stderr",
     "output_type": "stream",
     "text": [
      "C:\\Users\\lokanath\\AppData\\Local\\Temp\\ipykernel_3092\\3698961737.py:1: FutureWarning: The default value of numeric_only in DataFrame.mean is deprecated. In a future version, it will default to False. In addition, specifying 'numeric_only=None' is deprecated. Select only valid columns or specify the value of numeric_only to silence this warning.\n",
      "  df.mean()\n"
     ]
    },
    {
     "data": {
      "text/plain": [
       "sepal-length    5.843333\n",
       "sepal-width     3.054000\n",
       "petal-length    3.758667\n",
       " petal-width    1.198667\n",
       "dtype: float64"
      ]
     },
     "execution_count": 27,
     "metadata": {},
     "output_type": "execute_result"
    }
   ],
   "source": [
    "df.mean()"
   ]
  },
  {
   "cell_type": "code",
   "execution_count": 28,
   "id": "2094ba4e",
   "metadata": {},
   "outputs": [
    {
     "name": "stderr",
     "output_type": "stream",
     "text": [
      "C:\\Users\\lokanath\\AppData\\Local\\Temp\\ipykernel_3092\\530051474.py:1: FutureWarning: The default value of numeric_only in DataFrame.median is deprecated. In a future version, it will default to False. In addition, specifying 'numeric_only=None' is deprecated. Select only valid columns or specify the value of numeric_only to silence this warning.\n",
      "  df.median()\n"
     ]
    },
    {
     "data": {
      "text/plain": [
       "sepal-length    5.80\n",
       "sepal-width     3.00\n",
       "petal-length    4.35\n",
       " petal-width    1.30\n",
       "dtype: float64"
      ]
     },
     "execution_count": 28,
     "metadata": {},
     "output_type": "execute_result"
    }
   ],
   "source": [
    "df.median()"
   ]
  },
  {
   "cell_type": "code",
   "execution_count": 32,
   "id": "316a8d31",
   "metadata": {},
   "outputs": [
    {
     "data": {
      "text/html": [
       "<div>\n",
       "<style scoped>\n",
       "    .dataframe tbody tr th:only-of-type {\n",
       "        vertical-align: middle;\n",
       "    }\n",
       "\n",
       "    .dataframe tbody tr th {\n",
       "        vertical-align: top;\n",
       "    }\n",
       "\n",
       "    .dataframe thead th {\n",
       "        text-align: right;\n",
       "    }\n",
       "</style>\n",
       "<table border=\"1\" class=\"dataframe\">\n",
       "  <thead>\n",
       "    <tr style=\"text-align: right;\">\n",
       "      <th></th>\n",
       "      <th>sepal-length</th>\n",
       "      <th>sepal-width</th>\n",
       "      <th>petal-length</th>\n",
       "      <th>petal-width</th>\n",
       "    </tr>\n",
       "  </thead>\n",
       "  <tbody>\n",
       "    <tr>\n",
       "      <th>0</th>\n",
       "      <td>5.0</td>\n",
       "      <td>3.0</td>\n",
       "      <td>1.5</td>\n",
       "      <td>0.2</td>\n",
       "    </tr>\n",
       "  </tbody>\n",
       "</table>\n",
       "</div>"
      ],
      "text/plain": [
       "   sepal-length  sepal-width  petal-length   petal-width\n",
       "0           5.0          3.0           1.5           0.2"
      ]
     },
     "execution_count": 32,
     "metadata": {},
     "output_type": "execute_result"
    }
   ],
   "source": [
    "df.mode(numeric_only=True)"
   ]
  },
  {
   "cell_type": "code",
   "execution_count": 33,
   "id": "1769f18b",
   "metadata": {},
   "outputs": [
    {
     "name": "stderr",
     "output_type": "stream",
     "text": [
      "C:\\Users\\lokanath\\AppData\\Local\\Temp\\ipykernel_3092\\1568254755.py:1: FutureWarning: The default value of numeric_only in DataFrame.var is deprecated. In a future version, it will default to False. In addition, specifying 'numeric_only=None' is deprecated. Select only valid columns or specify the value of numeric_only to silence this warning.\n",
      "  df.var()\n"
     ]
    },
    {
     "data": {
      "text/plain": [
       "sepal-length    0.685694\n",
       "sepal-width     0.188004\n",
       "petal-length    3.113179\n",
       " petal-width    0.582414\n",
       "dtype: float64"
      ]
     },
     "execution_count": 33,
     "metadata": {},
     "output_type": "execute_result"
    }
   ],
   "source": [
    "df.var()"
   ]
  },
  {
   "cell_type": "code",
   "execution_count": 34,
   "id": "31361d55",
   "metadata": {},
   "outputs": [
    {
     "name": "stderr",
     "output_type": "stream",
     "text": [
      "C:\\Users\\lokanath\\AppData\\Local\\Temp\\ipykernel_3092\\3390915376.py:1: FutureWarning: The default value of numeric_only in DataFrame.std is deprecated. In a future version, it will default to False. In addition, specifying 'numeric_only=None' is deprecated. Select only valid columns or specify the value of numeric_only to silence this warning.\n",
      "  df.std()\n"
     ]
    },
    {
     "data": {
      "text/plain": [
       "sepal-length    0.828066\n",
       "sepal-width     0.433594\n",
       "petal-length    1.764420\n",
       " petal-width    0.763161\n",
       "dtype: float64"
      ]
     },
     "execution_count": 34,
     "metadata": {},
     "output_type": "execute_result"
    }
   ],
   "source": [
    "df.std()"
   ]
  },
  {
   "cell_type": "code",
   "execution_count": 35,
   "id": "a39b57ee",
   "metadata": {},
   "outputs": [
    {
     "data": {
      "text/html": [
       "<div>\n",
       "<style scoped>\n",
       "    .dataframe tbody tr th:only-of-type {\n",
       "        vertical-align: middle;\n",
       "    }\n",
       "\n",
       "    .dataframe tbody tr th {\n",
       "        vertical-align: top;\n",
       "    }\n",
       "\n",
       "    .dataframe thead th {\n",
       "        text-align: right;\n",
       "    }\n",
       "</style>\n",
       "<table border=\"1\" class=\"dataframe\">\n",
       "  <thead>\n",
       "    <tr style=\"text-align: right;\">\n",
       "      <th></th>\n",
       "      <th>sepal-length</th>\n",
       "      <th>sepal-width</th>\n",
       "      <th>petal-length</th>\n",
       "      <th>petal-width</th>\n",
       "      <th>class</th>\n",
       "    </tr>\n",
       "  </thead>\n",
       "  <tbody>\n",
       "    <tr>\n",
       "      <th>117</th>\n",
       "      <td>7.7</td>\n",
       "      <td>3.8</td>\n",
       "      <td>6.7</td>\n",
       "      <td>2.2</td>\n",
       "      <td>Iris-virginica</td>\n",
       "    </tr>\n",
       "    <tr>\n",
       "      <th>118</th>\n",
       "      <td>7.7</td>\n",
       "      <td>2.6</td>\n",
       "      <td>6.9</td>\n",
       "      <td>2.3</td>\n",
       "      <td>Iris-virginica</td>\n",
       "    </tr>\n",
       "    <tr>\n",
       "      <th>122</th>\n",
       "      <td>7.7</td>\n",
       "      <td>2.8</td>\n",
       "      <td>6.7</td>\n",
       "      <td>2.0</td>\n",
       "      <td>Iris-virginica</td>\n",
       "    </tr>\n",
       "  </tbody>\n",
       "</table>\n",
       "</div>"
      ],
      "text/plain": [
       "     sepal-length  sepal-width  petal-length   petal-width           class\n",
       "117           7.7          3.8           6.7           2.2  Iris-virginica\n",
       "118           7.7          2.6           6.9           2.3  Iris-virginica\n",
       "122           7.7          2.8           6.7           2.0  Iris-virginica"
      ]
     },
     "execution_count": 35,
     "metadata": {},
     "output_type": "execute_result"
    }
   ],
   "source": [
    "df[df['petal-length']>(1.764420*3.758667)]"
   ]
  },
  {
   "cell_type": "code",
   "execution_count": 36,
   "id": "5acf06f3",
   "metadata": {},
   "outputs": [
    {
     "name": "stderr",
     "output_type": "stream",
     "text": [
      "C:\\Users\\lokanath\\AppData\\Local\\Temp\\ipykernel_3092\\1134722465.py:1: FutureWarning: The default value of numeric_only in DataFrame.corr is deprecated. In a future version, it will default to False. Select only valid columns or specify the value of numeric_only to silence this warning.\n",
      "  df.corr()\n"
     ]
    },
    {
     "data": {
      "text/html": [
       "<div>\n",
       "<style scoped>\n",
       "    .dataframe tbody tr th:only-of-type {\n",
       "        vertical-align: middle;\n",
       "    }\n",
       "\n",
       "    .dataframe tbody tr th {\n",
       "        vertical-align: top;\n",
       "    }\n",
       "\n",
       "    .dataframe thead th {\n",
       "        text-align: right;\n",
       "    }\n",
       "</style>\n",
       "<table border=\"1\" class=\"dataframe\">\n",
       "  <thead>\n",
       "    <tr style=\"text-align: right;\">\n",
       "      <th></th>\n",
       "      <th>sepal-length</th>\n",
       "      <th>sepal-width</th>\n",
       "      <th>petal-length</th>\n",
       "      <th>petal-width</th>\n",
       "    </tr>\n",
       "  </thead>\n",
       "  <tbody>\n",
       "    <tr>\n",
       "      <th>sepal-length</th>\n",
       "      <td>1.000000</td>\n",
       "      <td>-0.109369</td>\n",
       "      <td>0.871754</td>\n",
       "      <td>0.817954</td>\n",
       "    </tr>\n",
       "    <tr>\n",
       "      <th>sepal-width</th>\n",
       "      <td>-0.109369</td>\n",
       "      <td>1.000000</td>\n",
       "      <td>-0.420516</td>\n",
       "      <td>-0.356544</td>\n",
       "    </tr>\n",
       "    <tr>\n",
       "      <th>petal-length</th>\n",
       "      <td>0.871754</td>\n",
       "      <td>-0.420516</td>\n",
       "      <td>1.000000</td>\n",
       "      <td>0.962757</td>\n",
       "    </tr>\n",
       "    <tr>\n",
       "      <th>petal-width</th>\n",
       "      <td>0.817954</td>\n",
       "      <td>-0.356544</td>\n",
       "      <td>0.962757</td>\n",
       "      <td>1.000000</td>\n",
       "    </tr>\n",
       "  </tbody>\n",
       "</table>\n",
       "</div>"
      ],
      "text/plain": [
       "              sepal-length  sepal-width  petal-length   petal-width\n",
       "sepal-length      1.000000    -0.109369      0.871754      0.817954\n",
       "sepal-width      -0.109369     1.000000     -0.420516     -0.356544\n",
       "petal-length      0.871754    -0.420516      1.000000      0.962757\n",
       " petal-width      0.817954    -0.356544      0.962757      1.000000"
      ]
     },
     "execution_count": 36,
     "metadata": {},
     "output_type": "execute_result"
    }
   ],
   "source": [
    "df.corr()"
   ]
  },
  {
   "cell_type": "code",
   "execution_count": 37,
   "id": "72f6b324",
   "metadata": {},
   "outputs": [],
   "source": [
    "wine_df = pd.read_csv('wine.csv')"
   ]
  },
  {
   "cell_type": "code",
   "execution_count": 38,
   "id": "2e2a98aa",
   "metadata": {},
   "outputs": [
    {
     "data": {
      "text/html": [
       "<div>\n",
       "<style scoped>\n",
       "    .dataframe tbody tr th:only-of-type {\n",
       "        vertical-align: middle;\n",
       "    }\n",
       "\n",
       "    .dataframe tbody tr th {\n",
       "        vertical-align: top;\n",
       "    }\n",
       "\n",
       "    .dataframe thead th {\n",
       "        text-align: right;\n",
       "    }\n",
       "</style>\n",
       "<table border=\"1\" class=\"dataframe\">\n",
       "  <thead>\n",
       "    <tr style=\"text-align: right;\">\n",
       "      <th></th>\n",
       "      <th>INDEX</th>\n",
       "      <th>TARGET</th>\n",
       "      <th>FixedAcidity</th>\n",
       "      <th>VolatileAcidity</th>\n",
       "      <th>CitricAcid</th>\n",
       "      <th>ResidualSugar</th>\n",
       "      <th>Chlorides</th>\n",
       "      <th>FreeSulfurDioxide</th>\n",
       "      <th>TotalSulfurDioxide</th>\n",
       "      <th>Density</th>\n",
       "      <th>pH</th>\n",
       "      <th>Sulphates</th>\n",
       "      <th>Alcohol</th>\n",
       "      <th>LabelAppeal</th>\n",
       "      <th>AcidIndex</th>\n",
       "      <th>STARS</th>\n",
       "    </tr>\n",
       "  </thead>\n",
       "  <tbody>\n",
       "    <tr>\n",
       "      <th>0</th>\n",
       "      <td>1</td>\n",
       "      <td>3</td>\n",
       "      <td>3.2</td>\n",
       "      <td>1.160</td>\n",
       "      <td>-0.98</td>\n",
       "      <td>54.2</td>\n",
       "      <td>-0.567</td>\n",
       "      <td>NaN</td>\n",
       "      <td>268.0</td>\n",
       "      <td>0.99280</td>\n",
       "      <td>3.33</td>\n",
       "      <td>-0.59</td>\n",
       "      <td>9.9</td>\n",
       "      <td>0</td>\n",
       "      <td>8</td>\n",
       "      <td>2.0</td>\n",
       "    </tr>\n",
       "    <tr>\n",
       "      <th>1</th>\n",
       "      <td>2</td>\n",
       "      <td>3</td>\n",
       "      <td>4.5</td>\n",
       "      <td>0.160</td>\n",
       "      <td>-0.81</td>\n",
       "      <td>26.1</td>\n",
       "      <td>-0.425</td>\n",
       "      <td>15.0</td>\n",
       "      <td>-327.0</td>\n",
       "      <td>1.02792</td>\n",
       "      <td>3.38</td>\n",
       "      <td>0.70</td>\n",
       "      <td>NaN</td>\n",
       "      <td>-1</td>\n",
       "      <td>7</td>\n",
       "      <td>3.0</td>\n",
       "    </tr>\n",
       "    <tr>\n",
       "      <th>2</th>\n",
       "      <td>4</td>\n",
       "      <td>5</td>\n",
       "      <td>7.1</td>\n",
       "      <td>2.640</td>\n",
       "      <td>-0.88</td>\n",
       "      <td>14.8</td>\n",
       "      <td>0.037</td>\n",
       "      <td>214.0</td>\n",
       "      <td>142.0</td>\n",
       "      <td>0.99518</td>\n",
       "      <td>3.12</td>\n",
       "      <td>0.48</td>\n",
       "      <td>22.0</td>\n",
       "      <td>-1</td>\n",
       "      <td>8</td>\n",
       "      <td>3.0</td>\n",
       "    </tr>\n",
       "    <tr>\n",
       "      <th>3</th>\n",
       "      <td>5</td>\n",
       "      <td>3</td>\n",
       "      <td>5.7</td>\n",
       "      <td>0.385</td>\n",
       "      <td>0.04</td>\n",
       "      <td>18.8</td>\n",
       "      <td>-0.425</td>\n",
       "      <td>22.0</td>\n",
       "      <td>115.0</td>\n",
       "      <td>0.99640</td>\n",
       "      <td>2.24</td>\n",
       "      <td>1.83</td>\n",
       "      <td>6.2</td>\n",
       "      <td>-1</td>\n",
       "      <td>6</td>\n",
       "      <td>1.0</td>\n",
       "    </tr>\n",
       "    <tr>\n",
       "      <th>4</th>\n",
       "      <td>6</td>\n",
       "      <td>4</td>\n",
       "      <td>8.0</td>\n",
       "      <td>0.330</td>\n",
       "      <td>-1.26</td>\n",
       "      <td>9.4</td>\n",
       "      <td>NaN</td>\n",
       "      <td>-167.0</td>\n",
       "      <td>108.0</td>\n",
       "      <td>0.99457</td>\n",
       "      <td>3.12</td>\n",
       "      <td>1.77</td>\n",
       "      <td>13.7</td>\n",
       "      <td>0</td>\n",
       "      <td>9</td>\n",
       "      <td>2.0</td>\n",
       "    </tr>\n",
       "  </tbody>\n",
       "</table>\n",
       "</div>"
      ],
      "text/plain": [
       "   INDEX  TARGET  FixedAcidity  VolatileAcidity  CitricAcid  ResidualSugar  \\\n",
       "0      1       3           3.2            1.160       -0.98           54.2   \n",
       "1      2       3           4.5            0.160       -0.81           26.1   \n",
       "2      4       5           7.1            2.640       -0.88           14.8   \n",
       "3      5       3           5.7            0.385        0.04           18.8   \n",
       "4      6       4           8.0            0.330       -1.26            9.4   \n",
       "\n",
       "   Chlorides  FreeSulfurDioxide  TotalSulfurDioxide  Density    pH  Sulphates  \\\n",
       "0     -0.567                NaN               268.0  0.99280  3.33      -0.59   \n",
       "1     -0.425               15.0              -327.0  1.02792  3.38       0.70   \n",
       "2      0.037              214.0               142.0  0.99518  3.12       0.48   \n",
       "3     -0.425               22.0               115.0  0.99640  2.24       1.83   \n",
       "4        NaN             -167.0               108.0  0.99457  3.12       1.77   \n",
       "\n",
       "   Alcohol  LabelAppeal  AcidIndex  STARS  \n",
       "0      9.9            0          8    2.0  \n",
       "1      NaN           -1          7    3.0  \n",
       "2     22.0           -1          8    3.0  \n",
       "3      6.2           -1          6    1.0  \n",
       "4     13.7            0          9    2.0  "
      ]
     },
     "execution_count": 38,
     "metadata": {},
     "output_type": "execute_result"
    }
   ],
   "source": [
    "wine_df.head()"
   ]
  },
  {
   "cell_type": "code",
   "execution_count": 39,
   "id": "bd7e5d1f",
   "metadata": {},
   "outputs": [
    {
     "data": {
      "text/html": [
       "<div>\n",
       "<style scoped>\n",
       "    .dataframe tbody tr th:only-of-type {\n",
       "        vertical-align: middle;\n",
       "    }\n",
       "\n",
       "    .dataframe tbody tr th {\n",
       "        vertical-align: top;\n",
       "    }\n",
       "\n",
       "    .dataframe thead th {\n",
       "        text-align: right;\n",
       "    }\n",
       "</style>\n",
       "<table border=\"1\" class=\"dataframe\">\n",
       "  <thead>\n",
       "    <tr style=\"text-align: right;\">\n",
       "      <th></th>\n",
       "      <th>INDEX</th>\n",
       "      <th>TARGET</th>\n",
       "      <th>FixedAcidity</th>\n",
       "      <th>VolatileAcidity</th>\n",
       "      <th>CitricAcid</th>\n",
       "      <th>ResidualSugar</th>\n",
       "      <th>Chlorides</th>\n",
       "      <th>FreeSulfurDioxide</th>\n",
       "      <th>TotalSulfurDioxide</th>\n",
       "      <th>Density</th>\n",
       "      <th>pH</th>\n",
       "      <th>Sulphates</th>\n",
       "      <th>Alcohol</th>\n",
       "      <th>LabelAppeal</th>\n",
       "      <th>AcidIndex</th>\n",
       "      <th>STARS</th>\n",
       "    </tr>\n",
       "  </thead>\n",
       "  <tbody>\n",
       "    <tr>\n",
       "      <th>count</th>\n",
       "      <td>12795.000000</td>\n",
       "      <td>12795.000000</td>\n",
       "      <td>12795.000000</td>\n",
       "      <td>12795.000000</td>\n",
       "      <td>12795.000000</td>\n",
       "      <td>12179.000000</td>\n",
       "      <td>12157.000000</td>\n",
       "      <td>12148.000000</td>\n",
       "      <td>12113.000000</td>\n",
       "      <td>12795.000000</td>\n",
       "      <td>12400.000000</td>\n",
       "      <td>11585.000000</td>\n",
       "      <td>12142.000000</td>\n",
       "      <td>12795.000000</td>\n",
       "      <td>12795.000000</td>\n",
       "      <td>9436.000000</td>\n",
       "    </tr>\n",
       "    <tr>\n",
       "      <th>mean</th>\n",
       "      <td>8069.980305</td>\n",
       "      <td>3.029074</td>\n",
       "      <td>7.075717</td>\n",
       "      <td>0.324104</td>\n",
       "      <td>0.308413</td>\n",
       "      <td>5.418733</td>\n",
       "      <td>0.054822</td>\n",
       "      <td>30.845571</td>\n",
       "      <td>120.714233</td>\n",
       "      <td>0.994203</td>\n",
       "      <td>3.207628</td>\n",
       "      <td>0.527112</td>\n",
       "      <td>10.489236</td>\n",
       "      <td>-0.009066</td>\n",
       "      <td>7.772724</td>\n",
       "      <td>2.041755</td>\n",
       "    </tr>\n",
       "    <tr>\n",
       "      <th>std</th>\n",
       "      <td>4656.905107</td>\n",
       "      <td>1.926368</td>\n",
       "      <td>6.317643</td>\n",
       "      <td>0.784014</td>\n",
       "      <td>0.862080</td>\n",
       "      <td>33.749379</td>\n",
       "      <td>0.318467</td>\n",
       "      <td>148.714558</td>\n",
       "      <td>231.913211</td>\n",
       "      <td>0.026538</td>\n",
       "      <td>0.679687</td>\n",
       "      <td>0.932129</td>\n",
       "      <td>3.727819</td>\n",
       "      <td>0.891089</td>\n",
       "      <td>1.323926</td>\n",
       "      <td>0.902540</td>\n",
       "    </tr>\n",
       "    <tr>\n",
       "      <th>min</th>\n",
       "      <td>1.000000</td>\n",
       "      <td>0.000000</td>\n",
       "      <td>-18.100000</td>\n",
       "      <td>-2.790000</td>\n",
       "      <td>-3.240000</td>\n",
       "      <td>-127.800000</td>\n",
       "      <td>-1.171000</td>\n",
       "      <td>-555.000000</td>\n",
       "      <td>-823.000000</td>\n",
       "      <td>0.888090</td>\n",
       "      <td>0.480000</td>\n",
       "      <td>-3.130000</td>\n",
       "      <td>-4.700000</td>\n",
       "      <td>-2.000000</td>\n",
       "      <td>4.000000</td>\n",
       "      <td>1.000000</td>\n",
       "    </tr>\n",
       "    <tr>\n",
       "      <th>25%</th>\n",
       "      <td>4037.500000</td>\n",
       "      <td>2.000000</td>\n",
       "      <td>5.200000</td>\n",
       "      <td>0.130000</td>\n",
       "      <td>0.030000</td>\n",
       "      <td>-2.000000</td>\n",
       "      <td>-0.031000</td>\n",
       "      <td>0.000000</td>\n",
       "      <td>27.000000</td>\n",
       "      <td>0.987720</td>\n",
       "      <td>2.960000</td>\n",
       "      <td>0.280000</td>\n",
       "      <td>9.000000</td>\n",
       "      <td>-1.000000</td>\n",
       "      <td>7.000000</td>\n",
       "      <td>1.000000</td>\n",
       "    </tr>\n",
       "    <tr>\n",
       "      <th>50%</th>\n",
       "      <td>8110.000000</td>\n",
       "      <td>3.000000</td>\n",
       "      <td>6.900000</td>\n",
       "      <td>0.280000</td>\n",
       "      <td>0.310000</td>\n",
       "      <td>3.900000</td>\n",
       "      <td>0.046000</td>\n",
       "      <td>30.000000</td>\n",
       "      <td>123.000000</td>\n",
       "      <td>0.994490</td>\n",
       "      <td>3.200000</td>\n",
       "      <td>0.500000</td>\n",
       "      <td>10.400000</td>\n",
       "      <td>0.000000</td>\n",
       "      <td>8.000000</td>\n",
       "      <td>2.000000</td>\n",
       "    </tr>\n",
       "    <tr>\n",
       "      <th>75%</th>\n",
       "      <td>12106.500000</td>\n",
       "      <td>4.000000</td>\n",
       "      <td>9.500000</td>\n",
       "      <td>0.640000</td>\n",
       "      <td>0.580000</td>\n",
       "      <td>15.900000</td>\n",
       "      <td>0.153000</td>\n",
       "      <td>70.000000</td>\n",
       "      <td>208.000000</td>\n",
       "      <td>1.000515</td>\n",
       "      <td>3.470000</td>\n",
       "      <td>0.860000</td>\n",
       "      <td>12.400000</td>\n",
       "      <td>1.000000</td>\n",
       "      <td>8.000000</td>\n",
       "      <td>3.000000</td>\n",
       "    </tr>\n",
       "    <tr>\n",
       "      <th>max</th>\n",
       "      <td>16129.000000</td>\n",
       "      <td>8.000000</td>\n",
       "      <td>34.400000</td>\n",
       "      <td>3.680000</td>\n",
       "      <td>3.860000</td>\n",
       "      <td>141.150000</td>\n",
       "      <td>1.351000</td>\n",
       "      <td>623.000000</td>\n",
       "      <td>1057.000000</td>\n",
       "      <td>1.099240</td>\n",
       "      <td>6.130000</td>\n",
       "      <td>4.240000</td>\n",
       "      <td>26.500000</td>\n",
       "      <td>2.000000</td>\n",
       "      <td>17.000000</td>\n",
       "      <td>4.000000</td>\n",
       "    </tr>\n",
       "  </tbody>\n",
       "</table>\n",
       "</div>"
      ],
      "text/plain": [
       "              INDEX        TARGET  FixedAcidity  VolatileAcidity  \\\n",
       "count  12795.000000  12795.000000  12795.000000     12795.000000   \n",
       "mean    8069.980305      3.029074      7.075717         0.324104   \n",
       "std     4656.905107      1.926368      6.317643         0.784014   \n",
       "min        1.000000      0.000000    -18.100000        -2.790000   \n",
       "25%     4037.500000      2.000000      5.200000         0.130000   \n",
       "50%     8110.000000      3.000000      6.900000         0.280000   \n",
       "75%    12106.500000      4.000000      9.500000         0.640000   \n",
       "max    16129.000000      8.000000     34.400000         3.680000   \n",
       "\n",
       "         CitricAcid  ResidualSugar     Chlorides  FreeSulfurDioxide  \\\n",
       "count  12795.000000   12179.000000  12157.000000       12148.000000   \n",
       "mean       0.308413       5.418733      0.054822          30.845571   \n",
       "std        0.862080      33.749379      0.318467         148.714558   \n",
       "min       -3.240000    -127.800000     -1.171000        -555.000000   \n",
       "25%        0.030000      -2.000000     -0.031000           0.000000   \n",
       "50%        0.310000       3.900000      0.046000          30.000000   \n",
       "75%        0.580000      15.900000      0.153000          70.000000   \n",
       "max        3.860000     141.150000      1.351000         623.000000   \n",
       "\n",
       "       TotalSulfurDioxide       Density            pH     Sulphates  \\\n",
       "count        12113.000000  12795.000000  12400.000000  11585.000000   \n",
       "mean           120.714233      0.994203      3.207628      0.527112   \n",
       "std            231.913211      0.026538      0.679687      0.932129   \n",
       "min           -823.000000      0.888090      0.480000     -3.130000   \n",
       "25%             27.000000      0.987720      2.960000      0.280000   \n",
       "50%            123.000000      0.994490      3.200000      0.500000   \n",
       "75%            208.000000      1.000515      3.470000      0.860000   \n",
       "max           1057.000000      1.099240      6.130000      4.240000   \n",
       "\n",
       "            Alcohol   LabelAppeal     AcidIndex        STARS  \n",
       "count  12142.000000  12795.000000  12795.000000  9436.000000  \n",
       "mean      10.489236     -0.009066      7.772724     2.041755  \n",
       "std        3.727819      0.891089      1.323926     0.902540  \n",
       "min       -4.700000     -2.000000      4.000000     1.000000  \n",
       "25%        9.000000     -1.000000      7.000000     1.000000  \n",
       "50%       10.400000      0.000000      8.000000     2.000000  \n",
       "75%       12.400000      1.000000      8.000000     3.000000  \n",
       "max       26.500000      2.000000     17.000000     4.000000  "
      ]
     },
     "execution_count": 39,
     "metadata": {},
     "output_type": "execute_result"
    }
   ],
   "source": [
    "wine_df.describe()"
   ]
  },
  {
   "cell_type": "code",
   "execution_count": 40,
   "id": "c908a766",
   "metadata": {},
   "outputs": [
    {
     "name": "stdout",
     "output_type": "stream",
     "text": [
      "<class 'pandas.core.frame.DataFrame'>\n",
      "RangeIndex: 12795 entries, 0 to 12794\n",
      "Data columns (total 16 columns):\n",
      " #   Column              Non-Null Count  Dtype  \n",
      "---  ------              --------------  -----  \n",
      " 0   INDEX               12795 non-null  int64  \n",
      " 1   TARGET              12795 non-null  int64  \n",
      " 2   FixedAcidity        12795 non-null  float64\n",
      " 3   VolatileAcidity     12795 non-null  float64\n",
      " 4   CitricAcid          12795 non-null  float64\n",
      " 5   ResidualSugar       12179 non-null  float64\n",
      " 6   Chlorides           12157 non-null  float64\n",
      " 7   FreeSulfurDioxide   12148 non-null  float64\n",
      " 8   TotalSulfurDioxide  12113 non-null  float64\n",
      " 9   Density             12795 non-null  float64\n",
      " 10  pH                  12400 non-null  float64\n",
      " 11  Sulphates           11585 non-null  float64\n",
      " 12  Alcohol             12142 non-null  float64\n",
      " 13  LabelAppeal         12795 non-null  int64  \n",
      " 14  AcidIndex           12795 non-null  int64  \n",
      " 15  STARS               9436 non-null   float64\n",
      "dtypes: float64(12), int64(4)\n",
      "memory usage: 1.6 MB\n"
     ]
    }
   ],
   "source": [
    "wine_df.info()"
   ]
  },
  {
   "cell_type": "code",
   "execution_count": 41,
   "id": "c57e8b64",
   "metadata": {},
   "outputs": [
    {
     "data": {
      "text/plain": [
       "Index(['INDEX', 'TARGET', 'FixedAcidity', 'VolatileAcidity', 'CitricAcid',\n",
       "       'ResidualSugar', 'Chlorides', 'FreeSulfurDioxide', 'TotalSulfurDioxide',\n",
       "       'Density', 'pH', 'Sulphates', 'Alcohol', 'LabelAppeal', 'AcidIndex',\n",
       "       'STARS'],\n",
       "      dtype='object')"
      ]
     },
     "execution_count": 41,
     "metadata": {},
     "output_type": "execute_result"
    }
   ],
   "source": [
    "wine_df.columns"
   ]
  },
  {
   "cell_type": "code",
   "execution_count": 42,
   "id": "15431448",
   "metadata": {},
   "outputs": [
    {
     "data": {
      "text/plain": [
       "INDEX                 8069.980305\n",
       "TARGET                   3.029074\n",
       "FixedAcidity             7.075717\n",
       "VolatileAcidity          0.324104\n",
       "CitricAcid               0.308413\n",
       "ResidualSugar            5.418733\n",
       "Chlorides                0.054822\n",
       "FreeSulfurDioxide       30.845571\n",
       "TotalSulfurDioxide     120.714233\n",
       "Density                  0.994203\n",
       "pH                       3.207628\n",
       "Sulphates                0.527112\n",
       "Alcohol                 10.489236\n",
       "LabelAppeal             -0.009066\n",
       "AcidIndex                7.772724\n",
       "STARS                    2.041755\n",
       "dtype: float64"
      ]
     },
     "execution_count": 42,
     "metadata": {},
     "output_type": "execute_result"
    }
   ],
   "source": [
    "wine_df.mean()"
   ]
  },
  {
   "cell_type": "code",
   "execution_count": 43,
   "id": "5c33646e",
   "metadata": {},
   "outputs": [
    {
     "data": {
      "text/plain": [
       "INDEX                 8110.00000\n",
       "TARGET                   3.00000\n",
       "FixedAcidity             6.90000\n",
       "VolatileAcidity          0.28000\n",
       "CitricAcid               0.31000\n",
       "ResidualSugar            3.90000\n",
       "Chlorides                0.04600\n",
       "FreeSulfurDioxide       30.00000\n",
       "TotalSulfurDioxide     123.00000\n",
       "Density                  0.99449\n",
       "pH                       3.20000\n",
       "Sulphates                0.50000\n",
       "Alcohol                 10.40000\n",
       "LabelAppeal              0.00000\n",
       "AcidIndex                8.00000\n",
       "STARS                    2.00000\n",
       "dtype: float64"
      ]
     },
     "execution_count": 43,
     "metadata": {},
     "output_type": "execute_result"
    }
   ],
   "source": [
    "wine_df.median()"
   ]
  },
  {
   "cell_type": "code",
   "execution_count": 49,
   "id": "9de8cdd7",
   "metadata": {},
   "outputs": [],
   "source": [
    "df2 = wine_df[['FixedAcidity', 'VolatileAcidity', 'CitricAcid',\n",
    "       'ResidualSugar', 'Chlorides', 'FreeSulfurDioxide', 'TotalSulfurDioxide',\n",
    "       'Density', 'pH', 'Sulphates', 'Alcohol', 'LabelAppeal', 'AcidIndex']]"
   ]
  },
  {
   "cell_type": "code",
   "execution_count": 51,
   "id": "fcae1b60",
   "metadata": {},
   "outputs": [
    {
     "data": {
      "text/html": [
       "<div>\n",
       "<style scoped>\n",
       "    .dataframe tbody tr th:only-of-type {\n",
       "        vertical-align: middle;\n",
       "    }\n",
       "\n",
       "    .dataframe tbody tr th {\n",
       "        vertical-align: top;\n",
       "    }\n",
       "\n",
       "    .dataframe thead th {\n",
       "        text-align: right;\n",
       "    }\n",
       "</style>\n",
       "<table border=\"1\" class=\"dataframe\">\n",
       "  <thead>\n",
       "    <tr style=\"text-align: right;\">\n",
       "      <th></th>\n",
       "      <th>FixedAcidity</th>\n",
       "      <th>VolatileAcidity</th>\n",
       "      <th>CitricAcid</th>\n",
       "      <th>ResidualSugar</th>\n",
       "      <th>Chlorides</th>\n",
       "      <th>FreeSulfurDioxide</th>\n",
       "      <th>TotalSulfurDioxide</th>\n",
       "      <th>Density</th>\n",
       "      <th>pH</th>\n",
       "      <th>Sulphates</th>\n",
       "      <th>Alcohol</th>\n",
       "      <th>LabelAppeal</th>\n",
       "      <th>AcidIndex</th>\n",
       "    </tr>\n",
       "  </thead>\n",
       "  <tbody>\n",
       "    <tr>\n",
       "      <th>0</th>\n",
       "      <td>6.8</td>\n",
       "      <td>0.24</td>\n",
       "      <td>0.3</td>\n",
       "      <td>1.4</td>\n",
       "      <td>0.036</td>\n",
       "      <td>29.0</td>\n",
       "      <td>125.0</td>\n",
       "      <td>0.9976</td>\n",
       "      <td>3.22</td>\n",
       "      <td>0.5</td>\n",
       "      <td>9.4</td>\n",
       "      <td>0.0</td>\n",
       "      <td>7.0</td>\n",
       "    </tr>\n",
       "    <tr>\n",
       "      <th>1</th>\n",
       "      <td>NaN</td>\n",
       "      <td>NaN</td>\n",
       "      <td>NaN</td>\n",
       "      <td>NaN</td>\n",
       "      <td>0.044</td>\n",
       "      <td>NaN</td>\n",
       "      <td>NaN</td>\n",
       "      <td>NaN</td>\n",
       "      <td>NaN</td>\n",
       "      <td>NaN</td>\n",
       "      <td>NaN</td>\n",
       "      <td>NaN</td>\n",
       "      <td>NaN</td>\n",
       "    </tr>\n",
       "  </tbody>\n",
       "</table>\n",
       "</div>"
      ],
      "text/plain": [
       "   FixedAcidity  VolatileAcidity  CitricAcid  ResidualSugar  Chlorides  \\\n",
       "0           6.8             0.24         0.3            1.4      0.036   \n",
       "1           NaN              NaN         NaN            NaN      0.044   \n",
       "\n",
       "   FreeSulfurDioxide  TotalSulfurDioxide  Density    pH  Sulphates  Alcohol  \\\n",
       "0               29.0               125.0   0.9976  3.22        0.5      9.4   \n",
       "1                NaN                 NaN      NaN   NaN        NaN      NaN   \n",
       "\n",
       "   LabelAppeal  AcidIndex  \n",
       "0          0.0        7.0  \n",
       "1          NaN        NaN  "
      ]
     },
     "execution_count": 51,
     "metadata": {},
     "output_type": "execute_result"
    }
   ],
   "source": [
    "df2.mode()"
   ]
  },
  {
   "cell_type": "code",
   "execution_count": 52,
   "id": "3d8e163b",
   "metadata": {},
   "outputs": [
    {
     "data": {
      "text/plain": [
       "FixedAcidity             39.912619\n",
       "VolatileAcidity           0.614678\n",
       "CitricAcid                0.743182\n",
       "ResidualSugar          1139.020582\n",
       "Chlorides                 0.101421\n",
       "FreeSulfurDioxide     22116.019658\n",
       "TotalSulfurDioxide    53783.737208\n",
       "Density                   0.000704\n",
       "pH                        0.461975\n",
       "Sulphates                 0.868865\n",
       "Alcohol                  13.896635\n",
       "LabelAppeal               0.794040\n",
       "AcidIndex                 1.752781\n",
       "dtype: float64"
      ]
     },
     "execution_count": 52,
     "metadata": {},
     "output_type": "execute_result"
    }
   ],
   "source": [
    "df2.var()"
   ]
  },
  {
   "cell_type": "code",
   "execution_count": 53,
   "id": "be040443",
   "metadata": {},
   "outputs": [
    {
     "data": {
      "text/plain": [
       "0          NaN\n",
       "1         15.0\n",
       "2        214.0\n",
       "3         22.0\n",
       "4       -167.0\n",
       "         ...  \n",
       "12790     17.0\n",
       "12791     54.0\n",
       "12792     25.0\n",
       "12793     26.0\n",
       "12794   -106.0\n",
       "Name: FreeSulfurDioxide, Length: 12795, dtype: float64"
      ]
     },
     "execution_count": 53,
     "metadata": {},
     "output_type": "execute_result"
    }
   ],
   "source": [
    "df2['FreeSulfurDioxide']"
   ]
  },
  {
   "cell_type": "code",
   "execution_count": 54,
   "id": "22ee5d73",
   "metadata": {},
   "outputs": [
    {
     "data": {
      "text/plain": [
       "FixedAcidity            6.317643\n",
       "VolatileAcidity         0.784014\n",
       "CitricAcid              0.862080\n",
       "ResidualSugar          33.749379\n",
       "Chlorides               0.318467\n",
       "FreeSulfurDioxide     148.714558\n",
       "TotalSulfurDioxide    231.913211\n",
       "Density                 0.026538\n",
       "pH                      0.679687\n",
       "Sulphates               0.932129\n",
       "Alcohol                 3.727819\n",
       "LabelAppeal             0.891089\n",
       "AcidIndex               1.323926\n",
       "dtype: float64"
      ]
     },
     "execution_count": 54,
     "metadata": {},
     "output_type": "execute_result"
    }
   ],
   "source": [
    "df2.std()"
   ]
  },
  {
   "cell_type": "code",
   "execution_count": 55,
   "id": "a5ffbcdb",
   "metadata": {},
   "outputs": [
    {
     "data": {
      "text/html": [
       "<div>\n",
       "<style scoped>\n",
       "    .dataframe tbody tr th:only-of-type {\n",
       "        vertical-align: middle;\n",
       "    }\n",
       "\n",
       "    .dataframe tbody tr th {\n",
       "        vertical-align: top;\n",
       "    }\n",
       "\n",
       "    .dataframe thead th {\n",
       "        text-align: right;\n",
       "    }\n",
       "</style>\n",
       "<table border=\"1\" class=\"dataframe\">\n",
       "  <thead>\n",
       "    <tr style=\"text-align: right;\">\n",
       "      <th></th>\n",
       "      <th>FixedAcidity</th>\n",
       "      <th>VolatileAcidity</th>\n",
       "      <th>CitricAcid</th>\n",
       "      <th>ResidualSugar</th>\n",
       "      <th>Chlorides</th>\n",
       "      <th>FreeSulfurDioxide</th>\n",
       "      <th>TotalSulfurDioxide</th>\n",
       "      <th>Density</th>\n",
       "      <th>pH</th>\n",
       "      <th>Sulphates</th>\n",
       "      <th>Alcohol</th>\n",
       "      <th>LabelAppeal</th>\n",
       "      <th>AcidIndex</th>\n",
       "    </tr>\n",
       "  </thead>\n",
       "  <tbody>\n",
       "    <tr>\n",
       "      <th>FixedAcidity</th>\n",
       "      <td>1.000000</td>\n",
       "      <td>0.012375</td>\n",
       "      <td>0.014240</td>\n",
       "      <td>-0.018855</td>\n",
       "      <td>-0.000457</td>\n",
       "      <td>0.004972</td>\n",
       "      <td>-0.022498</td>\n",
       "      <td>0.006477</td>\n",
       "      <td>-0.008983</td>\n",
       "      <td>0.030783</td>\n",
       "      <td>-0.009371</td>\n",
       "      <td>-0.003366</td>\n",
       "      <td>0.178437</td>\n",
       "    </tr>\n",
       "    <tr>\n",
       "      <th>VolatileAcidity</th>\n",
       "      <td>0.012375</td>\n",
       "      <td>1.000000</td>\n",
       "      <td>-0.016953</td>\n",
       "      <td>-0.006483</td>\n",
       "      <td>0.000987</td>\n",
       "      <td>-0.007077</td>\n",
       "      <td>-0.021080</td>\n",
       "      <td>0.014735</td>\n",
       "      <td>0.013592</td>\n",
       "      <td>0.000129</td>\n",
       "      <td>0.004073</td>\n",
       "      <td>-0.016987</td>\n",
       "      <td>0.044642</td>\n",
       "    </tr>\n",
       "    <tr>\n",
       "      <th>CitricAcid</th>\n",
       "      <td>0.014240</td>\n",
       "      <td>-0.016953</td>\n",
       "      <td>1.000000</td>\n",
       "      <td>-0.006940</td>\n",
       "      <td>-0.008567</td>\n",
       "      <td>0.006428</td>\n",
       "      <td>0.006320</td>\n",
       "      <td>-0.013952</td>\n",
       "      <td>-0.008709</td>\n",
       "      <td>-0.012989</td>\n",
       "      <td>0.017046</td>\n",
       "      <td>0.008650</td>\n",
       "      <td>0.065697</td>\n",
       "    </tr>\n",
       "    <tr>\n",
       "      <th>ResidualSugar</th>\n",
       "      <td>-0.018855</td>\n",
       "      <td>-0.006483</td>\n",
       "      <td>-0.006940</td>\n",
       "      <td>1.000000</td>\n",
       "      <td>-0.005594</td>\n",
       "      <td>0.017493</td>\n",
       "      <td>0.022479</td>\n",
       "      <td>0.004101</td>\n",
       "      <td>0.012118</td>\n",
       "      <td>-0.007723</td>\n",
       "      <td>-0.019998</td>\n",
       "      <td>0.002320</td>\n",
       "      <td>-0.009414</td>\n",
       "    </tr>\n",
       "    <tr>\n",
       "      <th>Chlorides</th>\n",
       "      <td>-0.000457</td>\n",
       "      <td>0.000987</td>\n",
       "      <td>-0.008567</td>\n",
       "      <td>-0.005594</td>\n",
       "      <td>1.000000</td>\n",
       "      <td>-0.020661</td>\n",
       "      <td>-0.013994</td>\n",
       "      <td>0.022657</td>\n",
       "      <td>-0.017605</td>\n",
       "      <td>-0.003290</td>\n",
       "      <td>-0.019695</td>\n",
       "      <td>0.010509</td>\n",
       "      <td>0.025238</td>\n",
       "    </tr>\n",
       "    <tr>\n",
       "      <th>FreeSulfurDioxide</th>\n",
       "      <td>0.004972</td>\n",
       "      <td>-0.007077</td>\n",
       "      <td>0.006428</td>\n",
       "      <td>0.017493</td>\n",
       "      <td>-0.020661</td>\n",
       "      <td>1.000000</td>\n",
       "      <td>0.013720</td>\n",
       "      <td>0.003176</td>\n",
       "      <td>0.006049</td>\n",
       "      <td>0.011593</td>\n",
       "      <td>-0.018588</td>\n",
       "      <td>0.010294</td>\n",
       "      <td>-0.041717</td>\n",
       "    </tr>\n",
       "    <tr>\n",
       "      <th>TotalSulfurDioxide</th>\n",
       "      <td>-0.022498</td>\n",
       "      <td>-0.021080</td>\n",
       "      <td>0.006320</td>\n",
       "      <td>0.022479</td>\n",
       "      <td>-0.013994</td>\n",
       "      <td>0.013720</td>\n",
       "      <td>1.000000</td>\n",
       "      <td>0.012816</td>\n",
       "      <td>-0.004343</td>\n",
       "      <td>-0.007133</td>\n",
       "      <td>-0.015957</td>\n",
       "      <td>-0.009747</td>\n",
       "      <td>-0.049311</td>\n",
       "    </tr>\n",
       "    <tr>\n",
       "      <th>Density</th>\n",
       "      <td>0.006477</td>\n",
       "      <td>0.014735</td>\n",
       "      <td>-0.013952</td>\n",
       "      <td>0.004101</td>\n",
       "      <td>0.022657</td>\n",
       "      <td>0.003176</td>\n",
       "      <td>0.012816</td>\n",
       "      <td>1.000000</td>\n",
       "      <td>0.005768</td>\n",
       "      <td>-0.009059</td>\n",
       "      <td>-0.007215</td>\n",
       "      <td>-0.009370</td>\n",
       "      <td>0.040413</td>\n",
       "    </tr>\n",
       "    <tr>\n",
       "      <th>pH</th>\n",
       "      <td>-0.008983</td>\n",
       "      <td>0.013592</td>\n",
       "      <td>-0.008709</td>\n",
       "      <td>0.012118</td>\n",
       "      <td>-0.017605</td>\n",
       "      <td>0.006049</td>\n",
       "      <td>-0.004343</td>\n",
       "      <td>0.005768</td>\n",
       "      <td>1.000000</td>\n",
       "      <td>0.005475</td>\n",
       "      <td>-0.011548</td>\n",
       "      <td>0.004138</td>\n",
       "      <td>-0.058676</td>\n",
       "    </tr>\n",
       "    <tr>\n",
       "      <th>Sulphates</th>\n",
       "      <td>0.030783</td>\n",
       "      <td>0.000129</td>\n",
       "      <td>-0.012989</td>\n",
       "      <td>-0.007723</td>\n",
       "      <td>-0.003290</td>\n",
       "      <td>0.011593</td>\n",
       "      <td>-0.007133</td>\n",
       "      <td>-0.009059</td>\n",
       "      <td>0.005475</td>\n",
       "      <td>1.000000</td>\n",
       "      <td>0.004741</td>\n",
       "      <td>-0.003888</td>\n",
       "      <td>0.034449</td>\n",
       "    </tr>\n",
       "    <tr>\n",
       "      <th>Alcohol</th>\n",
       "      <td>-0.009371</td>\n",
       "      <td>0.004073</td>\n",
       "      <td>0.017046</td>\n",
       "      <td>-0.019998</td>\n",
       "      <td>-0.019695</td>\n",
       "      <td>-0.018588</td>\n",
       "      <td>-0.015957</td>\n",
       "      <td>-0.007215</td>\n",
       "      <td>-0.011548</td>\n",
       "      <td>0.004741</td>\n",
       "      <td>1.000000</td>\n",
       "      <td>0.001027</td>\n",
       "      <td>-0.038138</td>\n",
       "    </tr>\n",
       "    <tr>\n",
       "      <th>LabelAppeal</th>\n",
       "      <td>-0.003366</td>\n",
       "      <td>-0.016987</td>\n",
       "      <td>0.008650</td>\n",
       "      <td>0.002320</td>\n",
       "      <td>0.010509</td>\n",
       "      <td>0.010294</td>\n",
       "      <td>-0.009747</td>\n",
       "      <td>-0.009370</td>\n",
       "      <td>0.004138</td>\n",
       "      <td>-0.003888</td>\n",
       "      <td>0.001027</td>\n",
       "      <td>1.000000</td>\n",
       "      <td>0.024755</td>\n",
       "    </tr>\n",
       "    <tr>\n",
       "      <th>AcidIndex</th>\n",
       "      <td>0.178437</td>\n",
       "      <td>0.044642</td>\n",
       "      <td>0.065697</td>\n",
       "      <td>-0.009414</td>\n",
       "      <td>0.025238</td>\n",
       "      <td>-0.041717</td>\n",
       "      <td>-0.049311</td>\n",
       "      <td>0.040413</td>\n",
       "      <td>-0.058676</td>\n",
       "      <td>0.034449</td>\n",
       "      <td>-0.038138</td>\n",
       "      <td>0.024755</td>\n",
       "      <td>1.000000</td>\n",
       "    </tr>\n",
       "  </tbody>\n",
       "</table>\n",
       "</div>"
      ],
      "text/plain": [
       "                    FixedAcidity  VolatileAcidity  CitricAcid  ResidualSugar  \\\n",
       "FixedAcidity            1.000000         0.012375    0.014240      -0.018855   \n",
       "VolatileAcidity         0.012375         1.000000   -0.016953      -0.006483   \n",
       "CitricAcid              0.014240        -0.016953    1.000000      -0.006940   \n",
       "ResidualSugar          -0.018855        -0.006483   -0.006940       1.000000   \n",
       "Chlorides              -0.000457         0.000987   -0.008567      -0.005594   \n",
       "FreeSulfurDioxide       0.004972        -0.007077    0.006428       0.017493   \n",
       "TotalSulfurDioxide     -0.022498        -0.021080    0.006320       0.022479   \n",
       "Density                 0.006477         0.014735   -0.013952       0.004101   \n",
       "pH                     -0.008983         0.013592   -0.008709       0.012118   \n",
       "Sulphates               0.030783         0.000129   -0.012989      -0.007723   \n",
       "Alcohol                -0.009371         0.004073    0.017046      -0.019998   \n",
       "LabelAppeal            -0.003366        -0.016987    0.008650       0.002320   \n",
       "AcidIndex               0.178437         0.044642    0.065697      -0.009414   \n",
       "\n",
       "                    Chlorides  FreeSulfurDioxide  TotalSulfurDioxide  \\\n",
       "FixedAcidity        -0.000457           0.004972           -0.022498   \n",
       "VolatileAcidity      0.000987          -0.007077           -0.021080   \n",
       "CitricAcid          -0.008567           0.006428            0.006320   \n",
       "ResidualSugar       -0.005594           0.017493            0.022479   \n",
       "Chlorides            1.000000          -0.020661           -0.013994   \n",
       "FreeSulfurDioxide   -0.020661           1.000000            0.013720   \n",
       "TotalSulfurDioxide  -0.013994           0.013720            1.000000   \n",
       "Density              0.022657           0.003176            0.012816   \n",
       "pH                  -0.017605           0.006049           -0.004343   \n",
       "Sulphates           -0.003290           0.011593           -0.007133   \n",
       "Alcohol             -0.019695          -0.018588           -0.015957   \n",
       "LabelAppeal          0.010509           0.010294           -0.009747   \n",
       "AcidIndex            0.025238          -0.041717           -0.049311   \n",
       "\n",
       "                     Density        pH  Sulphates   Alcohol  LabelAppeal  \\\n",
       "FixedAcidity        0.006477 -0.008983   0.030783 -0.009371    -0.003366   \n",
       "VolatileAcidity     0.014735  0.013592   0.000129  0.004073    -0.016987   \n",
       "CitricAcid         -0.013952 -0.008709  -0.012989  0.017046     0.008650   \n",
       "ResidualSugar       0.004101  0.012118  -0.007723 -0.019998     0.002320   \n",
       "Chlorides           0.022657 -0.017605  -0.003290 -0.019695     0.010509   \n",
       "FreeSulfurDioxide   0.003176  0.006049   0.011593 -0.018588     0.010294   \n",
       "TotalSulfurDioxide  0.012816 -0.004343  -0.007133 -0.015957    -0.009747   \n",
       "Density             1.000000  0.005768  -0.009059 -0.007215    -0.009370   \n",
       "pH                  0.005768  1.000000   0.005475 -0.011548     0.004138   \n",
       "Sulphates          -0.009059  0.005475   1.000000  0.004741    -0.003888   \n",
       "Alcohol            -0.007215 -0.011548   0.004741  1.000000     0.001027   \n",
       "LabelAppeal        -0.009370  0.004138  -0.003888  0.001027     1.000000   \n",
       "AcidIndex           0.040413 -0.058676   0.034449 -0.038138     0.024755   \n",
       "\n",
       "                    AcidIndex  \n",
       "FixedAcidity         0.178437  \n",
       "VolatileAcidity      0.044642  \n",
       "CitricAcid           0.065697  \n",
       "ResidualSugar       -0.009414  \n",
       "Chlorides            0.025238  \n",
       "FreeSulfurDioxide   -0.041717  \n",
       "TotalSulfurDioxide  -0.049311  \n",
       "Density              0.040413  \n",
       "pH                  -0.058676  \n",
       "Sulphates            0.034449  \n",
       "Alcohol             -0.038138  \n",
       "LabelAppeal          0.024755  \n",
       "AcidIndex            1.000000  "
      ]
     },
     "execution_count": 55,
     "metadata": {},
     "output_type": "execute_result"
    }
   ],
   "source": [
    "df2.corr()"
   ]
  },
  {
   "cell_type": "code",
   "execution_count": null,
   "id": "8788da56",
   "metadata": {},
   "outputs": [],
   "source": []
  }
 ],
 "metadata": {
  "kernelspec": {
   "display_name": "Python 3 (ipykernel)",
   "language": "python",
   "name": "python3"
  },
  "language_info": {
   "codemirror_mode": {
    "name": "ipython",
    "version": 3
   },
   "file_extension": ".py",
   "mimetype": "text/x-python",
   "name": "python",
   "nbconvert_exporter": "python",
   "pygments_lexer": "ipython3",
   "version": "3.11.4"
  }
 },
 "nbformat": 4,
 "nbformat_minor": 5
}
