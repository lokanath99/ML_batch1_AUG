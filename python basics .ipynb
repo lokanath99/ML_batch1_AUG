{
 "cells": [
  {
   "cell_type": "markdown",
   "id": "7862d6c1",
   "metadata": {},
   "source": [
    "# Variables"
   ]
  },
  {
   "cell_type": "markdown",
   "id": "3ed61d6a",
   "metadata": {},
   "source": [
    "## Datatypes"
   ]
  },
  {
   "cell_type": "markdown",
   "id": "62e934f6",
   "metadata": {},
   "source": [
    "Datatype Integers/numbers"
   ]
  },
  {
   "cell_type": "code",
   "execution_count": 16,
   "id": "a652a52f",
   "metadata": {},
   "outputs": [],
   "source": [
    "a = 5"
   ]
  },
  {
   "cell_type": "code",
   "execution_count": 17,
   "id": "6f154bd6",
   "metadata": {},
   "outputs": [
    {
     "name": "stdout",
     "output_type": "stream",
     "text": [
      "5\n"
     ]
    }
   ],
   "source": [
    "print(a)"
   ]
  },
  {
   "cell_type": "code",
   "execution_count": 18,
   "id": "97c67fe4",
   "metadata": {},
   "outputs": [
    {
     "data": {
      "text/plain": [
       "5"
      ]
     },
     "execution_count": 18,
     "metadata": {},
     "output_type": "execute_result"
    }
   ],
   "source": [
    "a"
   ]
  },
  {
   "cell_type": "code",
   "execution_count": 19,
   "id": "81d9d07d",
   "metadata": {},
   "outputs": [],
   "source": [
    "a = 6"
   ]
  },
  {
   "cell_type": "code",
   "execution_count": 20,
   "id": "7514179a",
   "metadata": {},
   "outputs": [
    {
     "data": {
      "text/plain": [
       "6"
      ]
     },
     "execution_count": 20,
     "metadata": {},
     "output_type": "execute_result"
    }
   ],
   "source": [
    "a"
   ]
  },
  {
   "cell_type": "markdown",
   "id": "9b193d6f",
   "metadata": {},
   "source": [
    "Data type Strings"
   ]
  },
  {
   "cell_type": "code",
   "execution_count": 21,
   "id": "0a3188f6",
   "metadata": {},
   "outputs": [
    {
     "data": {
      "text/plain": [
       "'banglore'"
      ]
     },
     "execution_count": 21,
     "metadata": {},
     "output_type": "execute_result"
    }
   ],
   "source": [
    "string = 'banglore'\n",
    "string"
   ]
  },
  {
   "cell_type": "code",
   "execution_count": 22,
   "id": "cd45a188",
   "metadata": {},
   "outputs": [
    {
     "data": {
      "text/plain": [
       "'g'"
      ]
     },
     "execution_count": 22,
     "metadata": {},
     "output_type": "execute_result"
    }
   ],
   "source": [
    "string[3]"
   ]
  },
  {
   "cell_type": "code",
   "execution_count": 23,
   "id": "810e5ece",
   "metadata": {},
   "outputs": [
    {
     "data": {
      "text/plain": [
       "'b'"
      ]
     },
     "execution_count": 23,
     "metadata": {},
     "output_type": "execute_result"
    }
   ],
   "source": [
    "string[0]"
   ]
  },
  {
   "cell_type": "code",
   "execution_count": 24,
   "id": "48b17b44",
   "metadata": {},
   "outputs": [
    {
     "data": {
      "text/plain": [
       "'e'"
      ]
     },
     "execution_count": 24,
     "metadata": {},
     "output_type": "execute_result"
    }
   ],
   "source": [
    "string[-1]"
   ]
  },
  {
   "cell_type": "code",
   "execution_count": 25,
   "id": "fc9a30ff",
   "metadata": {},
   "outputs": [
    {
     "data": {
      "text/plain": [
       "'r'"
      ]
     },
     "execution_count": 25,
     "metadata": {},
     "output_type": "execute_result"
    }
   ],
   "source": [
    "string[-2]"
   ]
  },
  {
   "cell_type": "code",
   "execution_count": 26,
   "id": "a4727d03",
   "metadata": {},
   "outputs": [
    {
     "data": {
      "text/plain": [
       "'b'"
      ]
     },
     "execution_count": 26,
     "metadata": {},
     "output_type": "execute_result"
    }
   ],
   "source": [
    "string[-8]"
   ]
  },
  {
   "cell_type": "code",
   "execution_count": 27,
   "id": "3a642db5",
   "metadata": {},
   "outputs": [
    {
     "data": {
      "text/plain": [
       "'nglor'"
      ]
     },
     "execution_count": 27,
     "metadata": {},
     "output_type": "execute_result"
    }
   ],
   "source": [
    "string[2:7]"
   ]
  },
  {
   "cell_type": "code",
   "execution_count": 28,
   "id": "9076a935",
   "metadata": {},
   "outputs": [
    {
     "data": {
      "text/plain": [
       "'erolgnab'"
      ]
     },
     "execution_count": 28,
     "metadata": {},
     "output_type": "execute_result"
    }
   ],
   "source": [
    "string[::-1]"
   ]
  },
  {
   "cell_type": "code",
   "execution_count": 29,
   "id": "c4e74a4b",
   "metadata": {},
   "outputs": [
    {
     "data": {
      "text/plain": [
       "'banglor'"
      ]
     },
     "execution_count": 29,
     "metadata": {},
     "output_type": "execute_result"
    }
   ],
   "source": [
    "string[:-1]"
   ]
  },
  {
   "cell_type": "code",
   "execution_count": 30,
   "id": "920121ef",
   "metadata": {},
   "outputs": [
    {
     "data": {
      "text/plain": [
       "'Banglore'"
      ]
     },
     "execution_count": 30,
     "metadata": {},
     "output_type": "execute_result"
    }
   ],
   "source": [
    "string.capitalize()"
   ]
  },
  {
   "cell_type": "code",
   "execution_count": 31,
   "id": "66135a97",
   "metadata": {},
   "outputs": [
    {
     "data": {
      "text/plain": [
       "False"
      ]
     },
     "execution_count": 31,
     "metadata": {},
     "output_type": "execute_result"
    }
   ],
   "source": [
    "string.endswith('f')"
   ]
  },
  {
   "cell_type": "code",
   "execution_count": 32,
   "id": "6e71906d",
   "metadata": {},
   "outputs": [],
   "source": [
    "string = string + \" is a\" + \" beautiful city\""
   ]
  },
  {
   "cell_type": "code",
   "execution_count": 33,
   "id": "0ea262a0",
   "metadata": {},
   "outputs": [
    {
     "data": {
      "text/plain": [
       "'Banglore is a beautiful city'"
      ]
     },
     "execution_count": 33,
     "metadata": {},
     "output_type": "execute_result"
    }
   ],
   "source": [
    "string.capitalize()"
   ]
  },
  {
   "cell_type": "code",
   "execution_count": 35,
   "id": "1528baf2",
   "metadata": {},
   "outputs": [
    {
     "data": {
      "text/plain": [
       "28"
      ]
     },
     "execution_count": 35,
     "metadata": {},
     "output_type": "execute_result"
    }
   ],
   "source": [
    "len(string)"
   ]
  },
  {
   "cell_type": "markdown",
   "id": "ca881d77",
   "metadata": {},
   "source": [
    "List Datatype"
   ]
  },
  {
   "cell_type": "code",
   "execution_count": 1,
   "id": "4959d12f",
   "metadata": {},
   "outputs": [],
   "source": [
    "lst = [1,2,3]"
   ]
  },
  {
   "cell_type": "code",
   "execution_count": 2,
   "id": "94874ff9",
   "metadata": {},
   "outputs": [
    {
     "data": {
      "text/plain": [
       "[1, 2, 3]"
      ]
     },
     "execution_count": 2,
     "metadata": {},
     "output_type": "execute_result"
    }
   ],
   "source": [
    "lst"
   ]
  },
  {
   "cell_type": "code",
   "execution_count": 3,
   "id": "429cd68e",
   "metadata": {},
   "outputs": [
    {
     "data": {
      "text/plain": [
       "1"
      ]
     },
     "execution_count": 3,
     "metadata": {},
     "output_type": "execute_result"
    }
   ],
   "source": [
    "lst[0]"
   ]
  },
  {
   "cell_type": "code",
   "execution_count": 4,
   "id": "8a2dbaa3",
   "metadata": {},
   "outputs": [
    {
     "data": {
      "text/plain": [
       "3"
      ]
     },
     "execution_count": 4,
     "metadata": {},
     "output_type": "execute_result"
    }
   ],
   "source": [
    "lst[-1]"
   ]
  },
  {
   "cell_type": "code",
   "execution_count": 5,
   "id": "48c746fe",
   "metadata": {},
   "outputs": [],
   "source": [
    "lst = lst+[5,68,55,96,32,36,5]"
   ]
  },
  {
   "cell_type": "code",
   "execution_count": 6,
   "id": "0b25a62c",
   "metadata": {},
   "outputs": [
    {
     "data": {
      "text/plain": [
       "[1, 2, 3, 5, 68, 55, 96, 32, 36, 5]"
      ]
     },
     "execution_count": 6,
     "metadata": {},
     "output_type": "execute_result"
    }
   ],
   "source": [
    "lst"
   ]
  },
  {
   "cell_type": "code",
   "execution_count": 7,
   "id": "7e80fa94",
   "metadata": {},
   "outputs": [
    {
     "data": {
      "text/plain": [
       "[1, 2, 3, 5, 68, 55, 96, 32, 36, 5]"
      ]
     },
     "execution_count": 7,
     "metadata": {},
     "output_type": "execute_result"
    }
   ],
   "source": [
    "lst[:]"
   ]
  },
  {
   "cell_type": "code",
   "execution_count": 9,
   "id": "589b8ecf",
   "metadata": {},
   "outputs": [
    {
     "data": {
      "text/plain": [
       "[1, 2, 3, 5, 68, 55, 96, 32, 36]"
      ]
     },
     "execution_count": 9,
     "metadata": {},
     "output_type": "execute_result"
    }
   ],
   "source": [
    "lst[:9]"
   ]
  },
  {
   "cell_type": "code",
   "execution_count": 10,
   "id": "896e1c40",
   "metadata": {},
   "outputs": [
    {
     "data": {
      "text/plain": [
       "[5, 36, 32, 96, 55, 68, 5, 3, 2, 1]"
      ]
     },
     "execution_count": 10,
     "metadata": {},
     "output_type": "execute_result"
    }
   ],
   "source": [
    "lst[::-1]"
   ]
  },
  {
   "cell_type": "code",
   "execution_count": 12,
   "id": "29f98691",
   "metadata": {},
   "outputs": [],
   "source": [
    "lst = lst[::-1]"
   ]
  },
  {
   "cell_type": "code",
   "execution_count": 13,
   "id": "4e4645de",
   "metadata": {},
   "outputs": [
    {
     "data": {
      "text/plain": [
       "[5, 36, 32, 96, 55, 68, 5, 3, 2, 1]"
      ]
     },
     "execution_count": 13,
     "metadata": {},
     "output_type": "execute_result"
    }
   ],
   "source": [
    "lst"
   ]
  },
  {
   "cell_type": "code",
   "execution_count": 14,
   "id": "fa0274d1",
   "metadata": {},
   "outputs": [],
   "source": [
    "lst = [5,68,55,96,32,36,5]"
   ]
  },
  {
   "cell_type": "code",
   "execution_count": 15,
   "id": "856afd2d",
   "metadata": {},
   "outputs": [
    {
     "data": {
      "text/plain": [
       "[5, 68, 55, 96, 32, 36, 5]"
      ]
     },
     "execution_count": 15,
     "metadata": {},
     "output_type": "execute_result"
    }
   ],
   "source": [
    "lst"
   ]
  },
  {
   "cell_type": "code",
   "execution_count": 16,
   "id": "dda26bed",
   "metadata": {},
   "outputs": [],
   "source": [
    "lst[-1] = 12"
   ]
  },
  {
   "cell_type": "code",
   "execution_count": 17,
   "id": "8136b210",
   "metadata": {},
   "outputs": [
    {
     "data": {
      "text/plain": [
       "[5, 68, 55, 96, 32, 36, 12]"
      ]
     },
     "execution_count": 17,
     "metadata": {},
     "output_type": "execute_result"
    }
   ],
   "source": [
    "lst"
   ]
  },
  {
   "cell_type": "code",
   "execution_count": 19,
   "id": "d3e8933d",
   "metadata": {},
   "outputs": [],
   "source": [
    "lst.append(87)"
   ]
  },
  {
   "cell_type": "code",
   "execution_count": 20,
   "id": "ac7bed41",
   "metadata": {},
   "outputs": [
    {
     "data": {
      "text/plain": [
       "[5, 68, 55, 96, 32, 36, 12, 87]"
      ]
     },
     "execution_count": 20,
     "metadata": {},
     "output_type": "execute_result"
    }
   ],
   "source": [
    "lst"
   ]
  },
  {
   "cell_type": "code",
   "execution_count": 22,
   "id": "0f45d429",
   "metadata": {},
   "outputs": [],
   "source": [
    "lst.insert(2, 66)"
   ]
  },
  {
   "cell_type": "code",
   "execution_count": 23,
   "id": "439822cf",
   "metadata": {},
   "outputs": [
    {
     "data": {
      "text/plain": [
       "[5, 68, 66, 55, 96, 32, 36, 12, 87]"
      ]
     },
     "execution_count": 23,
     "metadata": {},
     "output_type": "execute_result"
    }
   ],
   "source": [
    "lst"
   ]
  },
  {
   "cell_type": "code",
   "execution_count": 24,
   "id": "9c58a8cb",
   "metadata": {},
   "outputs": [
    {
     "data": {
      "text/plain": [
       "87"
      ]
     },
     "execution_count": 24,
     "metadata": {},
     "output_type": "execute_result"
    }
   ],
   "source": [
    "lst.pop()"
   ]
  },
  {
   "cell_type": "code",
   "execution_count": 25,
   "id": "7a1f5834",
   "metadata": {},
   "outputs": [
    {
     "data": {
      "text/plain": [
       "32"
      ]
     },
     "execution_count": 25,
     "metadata": {},
     "output_type": "execute_result"
    }
   ],
   "source": [
    "lst.pop(-3)"
   ]
  },
  {
   "cell_type": "code",
   "execution_count": 26,
   "id": "931c02a1",
   "metadata": {},
   "outputs": [
    {
     "data": {
      "text/plain": [
       "[5, 68, 66, 55, 96, 36, 12]"
      ]
     },
     "execution_count": 26,
     "metadata": {},
     "output_type": "execute_result"
    }
   ],
   "source": [
    "lst"
   ]
  },
  {
   "cell_type": "code",
   "execution_count": 29,
   "id": "0fe14e8d",
   "metadata": {},
   "outputs": [],
   "source": [
    "del lst[4:]"
   ]
  },
  {
   "cell_type": "code",
   "execution_count": 30,
   "id": "47313a35",
   "metadata": {},
   "outputs": [
    {
     "data": {
      "text/plain": [
       "[5, 68, 66, 55]"
      ]
     },
     "execution_count": 30,
     "metadata": {},
     "output_type": "execute_result"
    }
   ],
   "source": [
    "lst"
   ]
  },
  {
   "cell_type": "code",
   "execution_count": 31,
   "id": "6ee4cf55",
   "metadata": {},
   "outputs": [
    {
     "data": {
      "text/plain": [
       "194"
      ]
     },
     "execution_count": 31,
     "metadata": {},
     "output_type": "execute_result"
    }
   ],
   "source": [
    "sum(lst)"
   ]
  },
  {
   "cell_type": "code",
   "execution_count": 32,
   "id": "e3e05003",
   "metadata": {},
   "outputs": [
    {
     "data": {
      "text/plain": [
       "68"
      ]
     },
     "execution_count": 32,
     "metadata": {},
     "output_type": "execute_result"
    }
   ],
   "source": [
    "max(lst)"
   ]
  },
  {
   "cell_type": "code",
   "execution_count": 33,
   "id": "1a3cea48",
   "metadata": {},
   "outputs": [
    {
     "data": {
      "text/plain": [
       "5"
      ]
     },
     "execution_count": 33,
     "metadata": {},
     "output_type": "execute_result"
    }
   ],
   "source": [
    "min(lst)"
   ]
  },
  {
   "cell_type": "code",
   "execution_count": 35,
   "id": "10546ba9",
   "metadata": {},
   "outputs": [],
   "source": [
    "lst.sort()"
   ]
  },
  {
   "cell_type": "code",
   "execution_count": 36,
   "id": "866d525b",
   "metadata": {},
   "outputs": [
    {
     "data": {
      "text/plain": [
       "[5, 55, 66, 68]"
      ]
     },
     "execution_count": 36,
     "metadata": {},
     "output_type": "execute_result"
    }
   ],
   "source": [
    "lst"
   ]
  },
  {
   "cell_type": "code",
   "execution_count": 37,
   "id": "975ce1b9",
   "metadata": {},
   "outputs": [],
   "source": [
    "lst.sort(reverse=True)"
   ]
  },
  {
   "cell_type": "code",
   "execution_count": 38,
   "id": "edbfd0af",
   "metadata": {
    "scrolled": true
   },
   "outputs": [
    {
     "data": {
      "text/plain": [
       "[68, 66, 55, 5]"
      ]
     },
     "execution_count": 38,
     "metadata": {},
     "output_type": "execute_result"
    }
   ],
   "source": [
    "lst"
   ]
  },
  {
   "cell_type": "code",
   "execution_count": 42,
   "id": "7e02fa99",
   "metadata": {},
   "outputs": [
    {
     "data": {
      "text/plain": [
       "1"
      ]
     },
     "execution_count": 42,
     "metadata": {},
     "output_type": "execute_result"
    }
   ],
   "source": [
    "lst.count(5)"
   ]
  },
  {
   "cell_type": "markdown",
   "id": "f34467ba",
   "metadata": {},
   "source": [
    "tuple Datatype"
   ]
  },
  {
   "cell_type": "code",
   "execution_count": 43,
   "id": "2b6942e9",
   "metadata": {},
   "outputs": [],
   "source": [
    "tup = (1,2,3,4,5)"
   ]
  },
  {
   "cell_type": "code",
   "execution_count": 44,
   "id": "2382eedf",
   "metadata": {},
   "outputs": [
    {
     "data": {
      "text/plain": [
       "(1, 2, 3, 4, 5)"
      ]
     },
     "execution_count": 44,
     "metadata": {},
     "output_type": "execute_result"
    }
   ],
   "source": [
    "tup"
   ]
  },
  {
   "cell_type": "code",
   "execution_count": 45,
   "id": "c14544e9",
   "metadata": {},
   "outputs": [
    {
     "data": {
      "text/plain": [
       "4"
      ]
     },
     "execution_count": 45,
     "metadata": {},
     "output_type": "execute_result"
    }
   ],
   "source": [
    "tup[3]"
   ]
  },
  {
   "cell_type": "code",
   "execution_count": 46,
   "id": "54c7b6df",
   "metadata": {},
   "outputs": [
    {
     "data": {
      "text/plain": [
       "(1, 2, 3, 4, 5)"
      ]
     },
     "execution_count": 46,
     "metadata": {},
     "output_type": "execute_result"
    }
   ],
   "source": [
    "tup[:]"
   ]
  },
  {
   "cell_type": "code",
   "execution_count": 47,
   "id": "e9ad9781",
   "metadata": {},
   "outputs": [
    {
     "data": {
      "text/plain": [
       "(5, 4, 3, 2, 1)"
      ]
     },
     "execution_count": 47,
     "metadata": {},
     "output_type": "execute_result"
    }
   ],
   "source": [
    "tup[::-1]"
   ]
  },
  {
   "cell_type": "code",
   "execution_count": 51,
   "id": "0f2d00cd",
   "metadata": {},
   "outputs": [
    {
     "data": {
      "text/plain": [
       "4"
      ]
     },
     "execution_count": 51,
     "metadata": {},
     "output_type": "execute_result"
    }
   ],
   "source": [
    "tup.index(5)"
   ]
  },
  {
   "cell_type": "code",
   "execution_count": 53,
   "id": "fa02b47e",
   "metadata": {},
   "outputs": [
    {
     "data": {
      "text/plain": [
       "1"
      ]
     },
     "execution_count": 53,
     "metadata": {},
     "output_type": "execute_result"
    }
   ],
   "source": [
    "min(tup)"
   ]
  },
  {
   "cell_type": "code",
   "execution_count": 54,
   "id": "808207c2",
   "metadata": {},
   "outputs": [
    {
     "data": {
      "text/plain": [
       "5"
      ]
     },
     "execution_count": 54,
     "metadata": {},
     "output_type": "execute_result"
    }
   ],
   "source": [
    "max(tup)"
   ]
  },
  {
   "cell_type": "code",
   "execution_count": 55,
   "id": "c26ad727",
   "metadata": {},
   "outputs": [
    {
     "data": {
      "text/plain": [
       "15"
      ]
     },
     "execution_count": 55,
     "metadata": {},
     "output_type": "execute_result"
    }
   ],
   "source": [
    "sum(tup)"
   ]
  },
  {
   "cell_type": "markdown",
   "id": "19ec02bd",
   "metadata": {},
   "source": [
    "set datatype"
   ]
  },
  {
   "cell_type": "code",
   "execution_count": 56,
   "id": "6eb08355",
   "metadata": {},
   "outputs": [],
   "source": [
    "sett = {96,58,99,55,44,96,55,44}"
   ]
  },
  {
   "cell_type": "code",
   "execution_count": 57,
   "id": "8ca7f533",
   "metadata": {},
   "outputs": [
    {
     "data": {
      "text/plain": [
       "{44, 55, 58, 96, 99}"
      ]
     },
     "execution_count": 57,
     "metadata": {},
     "output_type": "execute_result"
    }
   ],
   "source": [
    "sett"
   ]
  },
  {
   "cell_type": "code",
   "execution_count": 59,
   "id": "56ff0a0e",
   "metadata": {},
   "outputs": [],
   "source": [
    "sett.difference?"
   ]
  },
  {
   "cell_type": "markdown",
   "id": "ec4b15e7",
   "metadata": {},
   "source": [
    "dictionary datatype"
   ]
  },
  {
   "cell_type": "code",
   "execution_count": 1,
   "id": "f5c7bb4f",
   "metadata": {},
   "outputs": [],
   "source": [
    "data = {1:'nandini',2: 'ankitha', 4:'rishi',6:'abdul'}"
   ]
  },
  {
   "cell_type": "code",
   "execution_count": 2,
   "id": "e3824ac4",
   "metadata": {},
   "outputs": [
    {
     "data": {
      "text/plain": [
       "{1: 'nandini', 2: 'ankitha', 4: 'rishi', 6: 'abdul'}"
      ]
     },
     "execution_count": 2,
     "metadata": {},
     "output_type": "execute_result"
    }
   ],
   "source": [
    "data"
   ]
  },
  {
   "cell_type": "code",
   "execution_count": 3,
   "id": "ad5c98bb",
   "metadata": {},
   "outputs": [
    {
     "data": {
      "text/plain": [
       "dict"
      ]
     },
     "execution_count": 3,
     "metadata": {},
     "output_type": "execute_result"
    }
   ],
   "source": [
    "type(data)"
   ]
  },
  {
   "cell_type": "code",
   "execution_count": 4,
   "id": "fb066bc6",
   "metadata": {},
   "outputs": [
    {
     "data": {
      "text/plain": [
       "int"
      ]
     },
     "execution_count": 4,
     "metadata": {},
     "output_type": "execute_result"
    }
   ],
   "source": [
    "a = 10\n",
    "type(a)"
   ]
  },
  {
   "cell_type": "code",
   "execution_count": 5,
   "id": "e029afc3",
   "metadata": {},
   "outputs": [
    {
     "data": {
      "text/plain": [
       "'nandini'"
      ]
     },
     "execution_count": 5,
     "metadata": {},
     "output_type": "execute_result"
    }
   ],
   "source": [
    "data[1]"
   ]
  },
  {
   "cell_type": "code",
   "execution_count": 6,
   "id": "be73a425",
   "metadata": {},
   "outputs": [
    {
     "data": {
      "text/plain": [
       "'abdul'"
      ]
     },
     "execution_count": 6,
     "metadata": {},
     "output_type": "execute_result"
    }
   ],
   "source": [
    "data[6]"
   ]
  },
  {
   "cell_type": "code",
   "execution_count": 8,
   "id": "bec7d56c",
   "metadata": {},
   "outputs": [],
   "source": [
    "data = {'C++':'turbo C++', 'java': 'eclipse', 'python': 'pycharm'}"
   ]
  },
  {
   "cell_type": "code",
   "execution_count": 9,
   "id": "add043b4",
   "metadata": {},
   "outputs": [
    {
     "data": {
      "text/plain": [
       "'turbo C++'"
      ]
     },
     "execution_count": 9,
     "metadata": {},
     "output_type": "execute_result"
    }
   ],
   "source": [
    "data[\"C++\"]"
   ]
  },
  {
   "cell_type": "code",
   "execution_count": 10,
   "id": "f3ef8811",
   "metadata": {},
   "outputs": [
    {
     "data": {
      "text/plain": [
       "'eclipse'"
      ]
     },
     "execution_count": 10,
     "metadata": {},
     "output_type": "execute_result"
    }
   ],
   "source": [
    "data.get(\"java\")"
   ]
  },
  {
   "cell_type": "code",
   "execution_count": 11,
   "id": "f511a021",
   "metadata": {},
   "outputs": [],
   "source": [
    "data.get('JS')"
   ]
  },
  {
   "cell_type": "code",
   "execution_count": 12,
   "id": "7b23be98",
   "metadata": {},
   "outputs": [
    {
     "ename": "KeyError",
     "evalue": "'JS'",
     "output_type": "error",
     "traceback": [
      "\u001b[1;31m---------------------------------------------------------------------------\u001b[0m",
      "\u001b[1;31mKeyError\u001b[0m                                  Traceback (most recent call last)",
      "Cell \u001b[1;32mIn [12], line 1\u001b[0m\n\u001b[1;32m----> 1\u001b[0m \u001b[43mdata\u001b[49m\u001b[43m[\u001b[49m\u001b[38;5;124;43m'\u001b[39;49m\u001b[38;5;124;43mJS\u001b[39;49m\u001b[38;5;124;43m'\u001b[39;49m\u001b[43m]\u001b[49m\n",
      "\u001b[1;31mKeyError\u001b[0m: 'JS'"
     ]
    }
   ],
   "source": [
    "data['JS']"
   ]
  },
  {
   "cell_type": "code",
   "execution_count": 13,
   "id": "47435a8f",
   "metadata": {},
   "outputs": [
    {
     "data": {
      "text/plain": [
       "'not fonud the data or the key'"
      ]
     },
     "execution_count": 13,
     "metadata": {},
     "output_type": "execute_result"
    }
   ],
   "source": [
    "data.get('JS', 'not fonud the data or the key')"
   ]
  },
  {
   "cell_type": "code",
   "execution_count": 15,
   "id": "d75fa462",
   "metadata": {},
   "outputs": [],
   "source": [
    "lang = ['C++', 'java', 'python']\n",
    "IDEs = ['turbo C++', 'eclipse', 'pycharm']"
   ]
  },
  {
   "cell_type": "code",
   "execution_count": 19,
   "id": "ee3753a4",
   "metadata": {},
   "outputs": [
    {
     "data": {
      "text/plain": [
       "{'C++': 'turbo C++', 'java': 'eclipse', 'python': 'pycharm'}"
      ]
     },
     "execution_count": 19,
     "metadata": {},
     "output_type": "execute_result"
    }
   ],
   "source": [
    "dict(zip(lang, IDEs))"
   ]
  },
  {
   "cell_type": "code",
   "execution_count": 23,
   "id": "8910a3eb",
   "metadata": {},
   "outputs": [
    {
     "data": {
      "text/plain": [
       "dict_keys(['C++', 'java', 'python'])"
      ]
     },
     "execution_count": 23,
     "metadata": {},
     "output_type": "execute_result"
    }
   ],
   "source": [
    "data.keys()"
   ]
  },
  {
   "cell_type": "code",
   "execution_count": 24,
   "id": "bf9ac020",
   "metadata": {},
   "outputs": [
    {
     "data": {
      "text/plain": [
       "dict_values(['turbo C++', 'eclipse', 'pycharm'])"
      ]
     },
     "execution_count": 24,
     "metadata": {},
     "output_type": "execute_result"
    }
   ],
   "source": [
    "data.values()"
   ]
  },
  {
   "cell_type": "code",
   "execution_count": 25,
   "id": "3afac97c",
   "metadata": {},
   "outputs": [],
   "source": [
    "data['JS'] = 'VS code'"
   ]
  },
  {
   "cell_type": "code",
   "execution_count": 26,
   "id": "5c04a3db",
   "metadata": {},
   "outputs": [
    {
     "data": {
      "text/plain": [
       "{'C++': 'turbo C++', 'java': 'eclipse', 'python': 'pycharm', 'JS': 'VS code'}"
      ]
     },
     "execution_count": 26,
     "metadata": {},
     "output_type": "execute_result"
    }
   ],
   "source": [
    "data"
   ]
  },
  {
   "cell_type": "code",
   "execution_count": 27,
   "id": "7292c27d",
   "metadata": {},
   "outputs": [],
   "source": [
    "del data['java']"
   ]
  },
  {
   "cell_type": "code",
   "execution_count": 28,
   "id": "a8d23078",
   "metadata": {},
   "outputs": [
    {
     "data": {
      "text/plain": [
       "{'C++': 'turbo C++', 'python': 'pycharm', 'JS': 'VS code'}"
      ]
     },
     "execution_count": 28,
     "metadata": {},
     "output_type": "execute_result"
    }
   ],
   "source": [
    "data"
   ]
  },
  {
   "cell_type": "markdown",
   "id": "c288b86e",
   "metadata": {},
   "source": [
    "boolean datatype."
   ]
  },
  {
   "cell_type": "code",
   "execution_count": 34,
   "id": "e090f319",
   "metadata": {},
   "outputs": [
    {
     "data": {
      "text/plain": [
       "bool"
      ]
     },
     "execution_count": 34,
     "metadata": {},
     "output_type": "execute_result"
    }
   ],
   "source": [
    "type(True)"
   ]
  },
  {
   "cell_type": "markdown",
   "id": "9a021c40",
   "metadata": {},
   "source": [
    "Variables extras"
   ]
  },
  {
   "cell_type": "code",
   "execution_count": 35,
   "id": "579184df",
   "metadata": {},
   "outputs": [],
   "source": [
    "a = 10"
   ]
  },
  {
   "cell_type": "code",
   "execution_count": 36,
   "id": "76ed012b",
   "metadata": {},
   "outputs": [
    {
     "data": {
      "text/plain": [
       "140706532418632"
      ]
     },
     "execution_count": 36,
     "metadata": {},
     "output_type": "execute_result"
    }
   ],
   "source": [
    "id(a)"
   ]
  },
  {
   "cell_type": "code",
   "execution_count": 37,
   "id": "ae4b928b",
   "metadata": {},
   "outputs": [
    {
     "data": {
      "text/plain": [
       "140706532418632"
      ]
     },
     "execution_count": 37,
     "metadata": {},
     "output_type": "execute_result"
    }
   ],
   "source": [
    "id(10)"
   ]
  },
  {
   "cell_type": "code",
   "execution_count": 39,
   "id": "5d283c38",
   "metadata": {},
   "outputs": [
    {
     "data": {
      "text/plain": [
       "140706532418632"
      ]
     },
     "execution_count": 39,
     "metadata": {},
     "output_type": "execute_result"
    }
   ],
   "source": [
    "b = 10 \n",
    "id(b)"
   ]
  },
  {
   "cell_type": "code",
   "execution_count": 40,
   "id": "02055dfc",
   "metadata": {},
   "outputs": [],
   "source": [
    "a = 8"
   ]
  },
  {
   "cell_type": "code",
   "execution_count": 41,
   "id": "6a963464",
   "metadata": {},
   "outputs": [
    {
     "data": {
      "text/plain": [
       "140706532418568"
      ]
     },
     "execution_count": 41,
     "metadata": {},
     "output_type": "execute_result"
    }
   ],
   "source": [
    "id(a)"
   ]
  },
  {
   "cell_type": "code",
   "execution_count": 42,
   "id": "9d80e170",
   "metadata": {},
   "outputs": [
    {
     "data": {
      "text/plain": [
       "140706532418600"
      ]
     },
     "execution_count": 42,
     "metadata": {},
     "output_type": "execute_result"
    }
   ],
   "source": [
    "id(9)"
   ]
  },
  {
   "cell_type": "code",
   "execution_count": 43,
   "id": "484212ac",
   "metadata": {},
   "outputs": [
    {
     "data": {
      "text/plain": [
       "140706532418600"
      ]
     },
     "execution_count": 43,
     "metadata": {},
     "output_type": "execute_result"
    }
   ],
   "source": [
    "c = 9\n",
    "id(9)"
   ]
  },
  {
   "cell_type": "code",
   "execution_count": 47,
   "id": "1e4d1916",
   "metadata": {},
   "outputs": [
    {
     "data": {
      "text/plain": [
       "complex"
      ]
     },
     "execution_count": 47,
     "metadata": {},
     "output_type": "execute_result"
    }
   ],
   "source": [
    "a = 9j\n",
    "type(a)"
   ]
  },
  {
   "cell_type": "code",
   "execution_count": 48,
   "id": "cf0120af",
   "metadata": {},
   "outputs": [
    {
     "data": {
      "text/plain": [
       "1"
      ]
     },
     "execution_count": 48,
     "metadata": {},
     "output_type": "execute_result"
    }
   ],
   "source": [
    "int(True)"
   ]
  },
  {
   "cell_type": "code",
   "execution_count": 49,
   "id": "8d6ee36d",
   "metadata": {},
   "outputs": [
    {
     "data": {
      "text/plain": [
       "0"
      ]
     },
     "execution_count": 49,
     "metadata": {},
     "output_type": "execute_result"
    }
   ],
   "source": [
    "int(False)"
   ]
  },
  {
   "cell_type": "code",
   "execution_count": 50,
   "id": "5d1a9015",
   "metadata": {},
   "outputs": [],
   "source": [
    "data = [5.36, 5j, ['C++', 'java', 'python']]"
   ]
  },
  {
   "cell_type": "code",
   "execution_count": 51,
   "id": "809ee509",
   "metadata": {},
   "outputs": [
    {
     "data": {
      "text/plain": [
       "[5.36, 5j, ['C++', 'java', 'python']]"
      ]
     },
     "execution_count": 51,
     "metadata": {},
     "output_type": "execute_result"
    }
   ],
   "source": [
    "data"
   ]
  },
  {
   "cell_type": "code",
   "execution_count": 52,
   "id": "a2b95775",
   "metadata": {},
   "outputs": [
    {
     "data": {
      "text/plain": [
       "['C++', 'java', 'python']"
      ]
     },
     "execution_count": 52,
     "metadata": {},
     "output_type": "execute_result"
    }
   ],
   "source": [
    "data[2]"
   ]
  },
  {
   "cell_type": "code",
   "execution_count": 53,
   "id": "5f7638d8",
   "metadata": {},
   "outputs": [
    {
     "data": {
      "text/plain": [
       "'C++'"
      ]
     },
     "execution_count": 53,
     "metadata": {},
     "output_type": "execute_result"
    }
   ],
   "source": [
    "data[2][0]"
   ]
  },
  {
   "cell_type": "code",
   "execution_count": 54,
   "id": "8839423a",
   "metadata": {},
   "outputs": [],
   "source": [
    "data.append({'C++': 'turbo C++', 'python': 'pycharm', 'JS': 'VS code'})"
   ]
  },
  {
   "cell_type": "code",
   "execution_count": 55,
   "id": "004bedc2",
   "metadata": {},
   "outputs": [
    {
     "data": {
      "text/plain": [
       "[5.36,\n",
       " 5j,\n",
       " ['C++', 'java', 'python'],\n",
       " {'C++': 'turbo C++', 'python': 'pycharm', 'JS': 'VS code'}]"
      ]
     },
     "execution_count": 55,
     "metadata": {},
     "output_type": "execute_result"
    }
   ],
   "source": [
    "data"
   ]
  },
  {
   "cell_type": "code",
   "execution_count": 58,
   "id": "e05328d7",
   "metadata": {},
   "outputs": [
    {
     "data": {
      "text/plain": [
       "dict_keys(['C++', 'python', 'JS'])"
      ]
     },
     "execution_count": 58,
     "metadata": {},
     "output_type": "execute_result"
    }
   ],
   "source": [
    "data[3].keys()"
   ]
  },
  {
   "cell_type": "code",
   "execution_count": 59,
   "id": "886f1230",
   "metadata": {},
   "outputs": [
    {
     "data": {
      "text/plain": [
       "'turbo C++'"
      ]
     },
     "execution_count": 59,
     "metadata": {},
     "output_type": "execute_result"
    }
   ],
   "source": [
    "data[3]['C++']"
   ]
  },
  {
   "cell_type": "code",
   "execution_count": 60,
   "id": "70c8cf1f",
   "metadata": {},
   "outputs": [
    {
     "data": {
      "text/plain": [
       "{'C++': 'turbo C++', 'python': 'pycharm', 'JS': 'VS code'}"
      ]
     },
     "execution_count": 60,
     "metadata": {},
     "output_type": "execute_result"
    }
   ],
   "source": [
    "data[3]"
   ]
  },
  {
   "cell_type": "code",
   "execution_count": 62,
   "id": "7c526ad2",
   "metadata": {},
   "outputs": [
    {
     "data": {
      "text/plain": [
       "dict_items([('C++', 'turbo C++'), ('python', 'pycharm'), ('JS', 'VS code')])"
      ]
     },
     "execution_count": 62,
     "metadata": {},
     "output_type": "execute_result"
    }
   ],
   "source": [
    "data[3].items()"
   ]
  },
  {
   "cell_type": "markdown",
   "id": "cb04a4d1",
   "metadata": {},
   "source": [
    "Operators in python"
   ]
  },
  {
   "cell_type": "markdown",
   "id": "2333e244",
   "metadata": {},
   "source": [
    "arthematic operator"
   ]
  },
  {
   "cell_type": "code",
   "execution_count": 1,
   "id": "fa57a1b3",
   "metadata": {},
   "outputs": [
    {
     "data": {
      "text/plain": [
       "14"
      ]
     },
     "execution_count": 1,
     "metadata": {},
     "output_type": "execute_result"
    }
   ],
   "source": [
    "5 + 9"
   ]
  },
  {
   "cell_type": "code",
   "execution_count": 24,
   "id": "716abfe1",
   "metadata": {},
   "outputs": [
    {
     "data": {
      "text/plain": [
       "5"
      ]
     },
     "execution_count": 24,
     "metadata": {},
     "output_type": "execute_result"
    }
   ],
   "source": [
    "a, b = 4, 2\n",
    "a - b #a^b math.pow(a, b);\n",
    "a += 1\n",
    "a"
   ]
  },
  {
   "cell_type": "markdown",
   "id": "c6454109",
   "metadata": {},
   "source": [
    "assignment operator"
   ]
  },
  {
   "cell_type": "code",
   "execution_count": 20,
   "id": "befe6cae",
   "metadata": {},
   "outputs": [
    {
     "data": {
      "text/plain": [
       "16"
      ]
     },
     "execution_count": 20,
     "metadata": {},
     "output_type": "execute_result"
    }
   ],
   "source": [
    "a = 4\n",
    "a **= 2# a = a ** 2 \n",
    "a"
   ]
  },
  {
   "cell_type": "markdown",
   "id": "5f49fdc6",
   "metadata": {},
   "source": [
    "Comparision Operators"
   ]
  },
  {
   "cell_type": "markdown",
   "id": "692d160a",
   "metadata": {},
   "source": [
    "<, >, ==, <=, >=, != ---> True or False"
   ]
  },
  {
   "cell_type": "code",
   "execution_count": 33,
   "id": "e82c697e",
   "metadata": {},
   "outputs": [
    {
     "data": {
      "text/plain": [
       "False"
      ]
     },
     "execution_count": 33,
     "metadata": {},
     "output_type": "execute_result"
    }
   ],
   "source": [
    "a, b = 12, 9\n",
    "a < b"
   ]
  },
  {
   "cell_type": "code",
   "execution_count": 34,
   "id": "1309ab13",
   "metadata": {},
   "outputs": [
    {
     "data": {
      "text/plain": [
       "False"
      ]
     },
     "execution_count": 34,
     "metadata": {},
     "output_type": "execute_result"
    }
   ],
   "source": [
    "a >= b # a<b or a==b"
   ]
  },
  {
   "cell_type": "markdown",
   "id": "40dfda40",
   "metadata": {},
   "source": [
    "logical operators"
   ]
  },
  {
   "cell_type": "code",
   "execution_count": 36,
   "id": "f8e05fd4",
   "metadata": {},
   "outputs": [
    {
     "data": {
      "text/plain": [
       "False"
      ]
     },
     "execution_count": 36,
     "metadata": {},
     "output_type": "execute_result"
    }
   ],
   "source": [
    "a > b and a > 12"
   ]
  },
  {
   "cell_type": "code",
   "execution_count": 37,
   "id": "3bcd64b2",
   "metadata": {},
   "outputs": [
    {
     "data": {
      "text/plain": [
       "True"
      ]
     },
     "execution_count": 37,
     "metadata": {},
     "output_type": "execute_result"
    }
   ],
   "source": [
    "a > b or a > 12"
   ]
  },
  {
   "cell_type": "code",
   "execution_count": 40,
   "id": "37a1b691",
   "metadata": {},
   "outputs": [
    {
     "data": {
      "text/plain": [
       "False"
      ]
     },
     "execution_count": 40,
     "metadata": {},
     "output_type": "execute_result"
    }
   ],
   "source": [
    "not a > b"
   ]
  },
  {
   "cell_type": "markdown",
   "id": "216f8b76",
   "metadata": {},
   "source": [
    "control statemants"
   ]
  },
  {
   "cell_type": "markdown",
   "id": "f3de7451",
   "metadata": {},
   "source": [
    "IF, IF else, Else if"
   ]
  },
  {
   "cell_type": "code",
   "execution_count": 55,
   "id": "5b568492",
   "metadata": {},
   "outputs": [
    {
     "name": "stdout",
     "output_type": "stream",
     "text": [
      "a is numer 5\n"
     ]
    }
   ],
   "source": [
    "# if(condition){\n",
    "#     statements;\n",
    "# } --> If in C \n",
    "# if condition :\n",
    "#     statements --> python if \n",
    "a = 5\n",
    "if a==0:\n",
    "    print(\"its a whole number\")\n",
    "elif (a % 2 == 0):\n",
    "    print(\"Its even number\")\n",
    "    print(\"the number is \"+ str(a) )\n",
    "elif a == 5:\n",
    "    print(\"a is numer 5\")\n",
    "else :\n",
    "    print(\"Its an Odd Number\")"
   ]
  },
  {
   "cell_type": "markdown",
   "id": "4644164d",
   "metadata": {},
   "source": [
    "for loops/ itiration statement"
   ]
  },
  {
   "cell_type": "code",
   "execution_count": 5,
   "id": "3fc431cf",
   "metadata": {},
   "outputs": [
    {
     "name": "stdout",
     "output_type": "stream",
     "text": [
      "Hello world\n",
      "Hello world\n",
      "Hello world\n",
      "Hello world\n",
      "Hello world\n"
     ]
    }
   ],
   "source": [
    "i = 0# counter initialization\n",
    "while i < 5:#condition checking \n",
    "    print(\"Hello world\")\n",
    "    i+=1# incrementation"
   ]
  },
  {
   "cell_type": "code",
   "execution_count": 13,
   "id": "94a0d297",
   "metadata": {},
   "outputs": [
    {
     "data": {
      "text/plain": [
       "[0, 1, 2, 3, 4, 5, 6, 7, 8, 9]"
      ]
     },
     "execution_count": 13,
     "metadata": {},
     "output_type": "execute_result"
    }
   ],
   "source": [
    "list(range(10))"
   ]
  },
  {
   "cell_type": "markdown",
   "id": "4222656e",
   "metadata": {},
   "source": [
    "Forloops"
   ]
  },
  {
   "cell_type": "code",
   "execution_count": 17,
   "id": "ebfcb3d2",
   "metadata": {},
   "outputs": [
    {
     "name": "stdout",
     "output_type": "stream",
     "text": [
      "Hello 0\n",
      "Hello 1\n",
      "Hello 2\n",
      "Hello 3\n",
      "Hello 4\n",
      "Hello 5\n",
      "Hello 6\n",
      "Hello 7\n",
      "Hello 8\n",
      "Hello 9\n",
      "inside Else\n",
      "Hello Python\n"
     ]
    }
   ],
   "source": [
    "for i in range(10):\n",
    "    print('Hello ' + str(i))\n",
    "else:\n",
    "    print(\"inside Else\")\n",
    "    print(\"Hello Python\")"
   ]
  },
  {
   "cell_type": "code",
   "execution_count": 18,
   "id": "a7aff8d0",
   "metadata": {},
   "outputs": [],
   "source": [
    "lst = ['apple', 'mango', 'pineapple', 'tomato']"
   ]
  },
  {
   "cell_type": "code",
   "execution_count": 20,
   "id": "3142f8a2",
   "metadata": {},
   "outputs": [
    {
     "name": "stdout",
     "output_type": "stream",
     "text": [
      "apple\n",
      "mango\n",
      "pineapple\n",
      "tomato\n"
     ]
    }
   ],
   "source": [
    "for i in range(4):\n",
    "    print(lst[i])"
   ]
  },
  {
   "cell_type": "markdown",
   "id": "16cec48f",
   "metadata": {},
   "source": [
    "Functions in Python"
   ]
  },
  {
   "cell_type": "code",
   "execution_count": 22,
   "id": "585dc5b9",
   "metadata": {},
   "outputs": [
    {
     "name": "stdout",
     "output_type": "stream",
     "text": [
      "14\n"
     ]
    },
    {
     "ename": "NameError",
     "evalue": "name 'sub' is not defined",
     "output_type": "error",
     "traceback": [
      "\u001b[1;31m---------------------------------------------------------------------------\u001b[0m",
      "\u001b[1;31mNameError\u001b[0m                                 Traceback (most recent call last)",
      "Cell \u001b[1;32mIn [22], line 6\u001b[0m\n\u001b[0;32m      4\u001b[0m y \u001b[38;5;241m=\u001b[39m add(\u001b[38;5;241m5\u001b[39m, \u001b[38;5;241m9\u001b[39m)\u001b[38;5;66;03m#function Call\u001b[39;00m\n\u001b[0;32m      5\u001b[0m \u001b[38;5;28mprint\u001b[39m(\u001b[38;5;28mstr\u001b[39m(y))\n\u001b[1;32m----> 6\u001b[0m \u001b[43msub\u001b[49m()\n",
      "\u001b[1;31mNameError\u001b[0m: name 'sub' is not defined"
     ]
    }
   ],
   "source": [
    "def add(a, b):#function defination\n",
    "    return a + b\n",
    "\n",
    "y = add(5, 9)#function Call\n",
    "print(str(y))\n"
   ]
  },
  {
   "cell_type": "code",
   "execution_count": 39,
   "id": "9e8b3140",
   "metadata": {},
   "outputs": [
    {
     "ename": "TypeError",
     "evalue": "sub() takes 2 positional arguments but 3 were given",
     "output_type": "error",
     "traceback": [
      "\u001b[1;31m---------------------------------------------------------------------------\u001b[0m",
      "\u001b[1;31mTypeError\u001b[0m                                 Traceback (most recent call last)",
      "Cell \u001b[1;32mIn [39], line 4\u001b[0m\n\u001b[0;32m      2\u001b[0m     \u001b[38;5;28;01mreturn\u001b[39;00m a\u001b[38;5;241m-\u001b[39mb\n\u001b[0;32m      3\u001b[0m \u001b[38;5;66;03m# x = sub(10,5)\u001b[39;00m\n\u001b[1;32m----> 4\u001b[0m \u001b[38;5;28mprint\u001b[39m(\u001b[43msub\u001b[49m\u001b[43m(\u001b[49m\u001b[38;5;241;43m10\u001b[39;49m\u001b[43m,\u001b[49m\u001b[38;5;241;43m5\u001b[39;49m\u001b[43m,\u001b[49m\u001b[43m \u001b[49m\u001b[38;5;241;43m56\u001b[39;49m\u001b[43m)\u001b[49m)\n",
      "\u001b[1;31mTypeError\u001b[0m: sub() takes 2 positional arguments but 3 were given"
     ]
    }
   ],
   "source": [
    "def sub(a,b):\n",
    "    return a-b\n",
    "# x = sub(10,5)\n",
    "print(sub(10,5))"
   ]
  },
  {
   "cell_type": "code",
   "execution_count": 26,
   "id": "dea2c63a",
   "metadata": {},
   "outputs": [
    {
     "name": "stdout",
     "output_type": "stream",
     "text": [
      "44\n"
     ]
    }
   ],
   "source": [
    "def add(lst):\n",
    "    return sum(lst)\n",
    "\n",
    "print(add([5,6,9,8,7,4,5]))"
   ]
  },
  {
   "cell_type": "code",
   "execution_count": 31,
   "id": "dff8e39d",
   "metadata": {},
   "outputs": [
    {
     "name": "stdout",
     "output_type": "stream",
     "text": [
      "8\n",
      "6\n",
      "5\n",
      "9\n",
      "10\n"
     ]
    }
   ],
   "source": [
    "def some(a, c, d, b, e=10):\n",
    "    print(a)\n",
    "    print(b)\n",
    "    print(c)\n",
    "    print(d)\n",
    "    print(e)\n",
    "    \n",
    "# a8,b6,c5,d9\n",
    "some(a=8,b=6,c=5,d=9)"
   ]
  },
  {
   "cell_type": "code",
   "execution_count": 35,
   "id": "58d48653",
   "metadata": {},
   "outputs": [
    {
     "name": "stdout",
     "output_type": "stream",
     "text": [
      "dict_items([(1, 'hi'), (2, 'Hello')])\n"
     ]
    }
   ],
   "source": [
    "def add(tup):\n",
    "    print(tup.items())\n",
    "\n",
    "add( {1:\"hi\", 2:\"Hello\"} )"
   ]
  },
  {
   "cell_type": "code",
   "execution_count": 40,
   "id": "aff2d986",
   "metadata": {},
   "outputs": [
    {
     "name": "stdout",
     "output_type": "stream",
     "text": [
      "5\n",
      "(9, 6, 9)\n"
     ]
    }
   ],
   "source": [
    "def add(a, *b):\n",
    "    print(a)\n",
    "    print(b)\n",
    "\n",
    "add(5, 9, 6, 9)"
   ]
  },
  {
   "cell_type": "code",
   "execution_count": 48,
   "id": "f46de024",
   "metadata": {},
   "outputs": [
    {
     "name": "stdout",
     "output_type": "stream",
     "text": [
      "1\n",
      "{'name': 'Loka', 'age': 5}\n"
     ]
    }
   ],
   "source": [
    "def add(a, **b):\n",
    "    print(a)\n",
    "    print(b)\n",
    "    \n",
    "add(1, name=\"Loka\", age=5)"
   ]
  },
  {
   "cell_type": "code",
   "execution_count": 49,
   "id": "b840352f",
   "metadata": {},
   "outputs": [
    {
     "name": "stdout",
     "output_type": "stream",
     "text": [
      "4\n"
     ]
    }
   ],
   "source": [
    "def square(a):\n",
    "    return a**2\n",
    "print(square(2))"
   ]
  },
  {
   "cell_type": "code",
   "execution_count": 53,
   "id": "aa2fc29a",
   "metadata": {},
   "outputs": [
    {
     "name": "stdout",
     "output_type": "stream",
     "text": [
      "25\n"
     ]
    }
   ],
   "source": [
    "squa = lambda a: a**2\n",
    "print(squa(5))"
   ]
  },
  {
   "cell_type": "code",
   "execution_count": 62,
   "id": "3969b9f6",
   "metadata": {},
   "outputs": [
    {
     "name": "stdout",
     "output_type": "stream",
     "text": [
      "[]\n"
     ]
    }
   ],
   "source": [
    "a=[1,2,3,4,5]#5 - 3\n",
    "print(a[-1:-4:-1]) "
   ]
  },
  {
   "cell_type": "code",
   "execution_count": 64,
   "id": "5d385de3",
   "metadata": {},
   "outputs": [
    {
     "name": "stdout",
     "output_type": "stream",
     "text": [
      "4\n",
      "16\n"
     ]
    }
   ],
   "source": [
    "kau=lambda a: a**2\n",
    "a=int(input())\n",
    "print(kau(a))"
   ]
  },
  {
   "cell_type": "code",
   "execution_count": null,
   "id": "e5fa2f05",
   "metadata": {},
   "outputs": [],
   "source": []
  }
 ],
 "metadata": {
  "kernelspec": {
   "display_name": "Python 3 (ipykernel)",
   "language": "python",
   "name": "python3"
  },
  "language_info": {
   "codemirror_mode": {
    "name": "ipython",
    "version": 3
   },
   "file_extension": ".py",
   "mimetype": "text/x-python",
   "name": "python",
   "nbconvert_exporter": "python",
   "pygments_lexer": "ipython3",
   "version": "3.11.4"
  }
 },
 "nbformat": 4,
 "nbformat_minor": 5
}
